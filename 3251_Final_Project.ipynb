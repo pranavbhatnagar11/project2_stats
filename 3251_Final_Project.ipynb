{
 "cells": [
  {
   "cell_type": "markdown",
   "metadata": {},
   "source": [
    "## 1) Make a hypothesis about a correlation in a dataset and test the hypothesis using a statistical inference technique (such as the t-test)"
   ]
  },
  {
   "cell_type": "code",
   "execution_count": 1,
   "metadata": {},
   "outputs": [],
   "source": [
    "import pandas as pd\n",
    "import numpy as np\n",
    "import matplotlib.pyplot as plt\n",
    "import scipy.stats as st\n",
    "import seaborn as sns\n",
    "import math\n",
    "from matplotlib.pylab import rcParams\n",
    "from pandas.plotting import scatter_matrix\n",
    "from statsmodels.formula.api import ols\n",
    "import statsmodels.api as sm\n",
    "import mpl_toolkits\n",
    "%matplotlib inline"
   ]
  },
  {
   "cell_type": "markdown",
   "metadata": {},
   "source": [
    "### Null Hypothesis:\n",
    "#### H<sub>0</sub>: Single bedroom unit's rental price is almost equal all over Toronto area (μ = μ<sub>0</sub>).\n",
    "\n",
    "### Alternate: \n",
    "#### H<sub>A</sub>: Single bedroom unit's rental price is higher than in 'Downtown Toronto' area compare to all over Toronto area (μ > μ<sub>0</sub>)."
   ]
  },
  {
   "cell_type": "code",
   "execution_count": 2,
   "metadata": {},
   "outputs": [
    {
     "data": {
      "text/html": [
       "<div>\n",
       "<style scoped>\n",
       "    .dataframe tbody tr th:only-of-type {\n",
       "        vertical-align: middle;\n",
       "    }\n",
       "\n",
       "    .dataframe tbody tr th {\n",
       "        vertical-align: top;\n",
       "    }\n",
       "\n",
       "    .dataframe thead th {\n",
       "        text-align: right;\n",
       "    }\n",
       "</style>\n",
       "<table border=\"1\" class=\"dataframe\">\n",
       "  <thead>\n",
       "    <tr style=\"text-align: right;\">\n",
       "      <th></th>\n",
       "      <th>Bedroom</th>\n",
       "      <th>Bathroom</th>\n",
       "      <th>Den</th>\n",
       "      <th>Address</th>\n",
       "      <th>Lat</th>\n",
       "      <th>Long</th>\n",
       "      <th>Price</th>\n",
       "    </tr>\n",
       "  </thead>\n",
       "  <tbody>\n",
       "    <tr>\n",
       "      <th>0</th>\n",
       "      <td>1</td>\n",
       "      <td>1.0</td>\n",
       "      <td>0</td>\n",
       "      <td>8 Wellesley St E, Toronto, ON M4Y 3B2, Canada</td>\n",
       "      <td>43.665233</td>\n",
       "      <td>-79.384293</td>\n",
       "      <td>99</td>\n",
       "    </tr>\n",
       "    <tr>\n",
       "      <th>1</th>\n",
       "      <td>1</td>\n",
       "      <td>1.0</td>\n",
       "      <td>0</td>\n",
       "      <td>, Toronro M4V 1N5 ON, Canada</td>\n",
       "      <td>43.686511</td>\n",
       "      <td>-79.399522</td>\n",
       "      <td>150</td>\n",
       "    </tr>\n",
       "    <tr>\n",
       "      <th>2</th>\n",
       "      <td>1</td>\n",
       "      <td>1.0</td>\n",
       "      <td>0</td>\n",
       "      <td>195 Wynford Dr, North York, ON M3C 3P3, Canada</td>\n",
       "      <td>43.723587</td>\n",
       "      <td>-79.324879</td>\n",
       "      <td>300</td>\n",
       "    </tr>\n",
       "    <tr>\n",
       "      <th>3</th>\n",
       "      <td>1</td>\n",
       "      <td>1.0</td>\n",
       "      <td>0</td>\n",
       "      <td>89 Chestnut St, Toronto, ON M5G 1R1, Canada</td>\n",
       "      <td>43.654155</td>\n",
       "      <td>-79.385211</td>\n",
       "      <td>550</td>\n",
       "    </tr>\n",
       "    <tr>\n",
       "      <th>4</th>\n",
       "      <td>1</td>\n",
       "      <td>1.0</td>\n",
       "      <td>0</td>\n",
       "      <td>89 Chestnut St, Toronto, ON M5G 1R1, Canada</td>\n",
       "      <td>43.654155</td>\n",
       "      <td>-79.385211</td>\n",
       "      <td>550</td>\n",
       "    </tr>\n",
       "  </tbody>\n",
       "</table>\n",
       "</div>"
      ],
      "text/plain": [
       "   Bedroom  Bathroom  Den                                         Address  \\\n",
       "0        1       1.0    0   8 Wellesley St E, Toronto, ON M4Y 3B2, Canada   \n",
       "1        1       1.0    0                    , Toronro M4V 1N5 ON, Canada   \n",
       "2        1       1.0    0  195 Wynford Dr, North York, ON M3C 3P3, Canada   \n",
       "3        1       1.0    0     89 Chestnut St, Toronto, ON M5G 1R1, Canada   \n",
       "4        1       1.0    0     89 Chestnut St, Toronto, ON M5G 1R1, Canada   \n",
       "\n",
       "         Lat       Long  Price  \n",
       "0  43.665233 -79.384293     99  \n",
       "1  43.686511 -79.399522    150  \n",
       "2  43.723587 -79.324879    300  \n",
       "3  43.654155 -79.385211    550  \n",
       "4  43.654155 -79.385211    550  "
      ]
     },
     "execution_count": 2,
     "metadata": {},
     "output_type": "execute_result"
    }
   ],
   "source": [
    "### Read the file\n",
    "df = pd.read_excel('Toronto_apartment_rentals_2018.xlsx', sheet_name='toronto_rental_price', skiprows=0)\n",
    "df.head()"
   ]
  },
  {
   "cell_type": "code",
   "execution_count": 3,
   "metadata": {},
   "outputs": [
    {
     "data": {
      "text/html": [
       "<div>\n",
       "<style scoped>\n",
       "    .dataframe tbody tr th:only-of-type {\n",
       "        vertical-align: middle;\n",
       "    }\n",
       "\n",
       "    .dataframe tbody tr th {\n",
       "        vertical-align: top;\n",
       "    }\n",
       "\n",
       "    .dataframe thead th {\n",
       "        text-align: right;\n",
       "    }\n",
       "</style>\n",
       "<table border=\"1\" class=\"dataframe\">\n",
       "  <thead>\n",
       "    <tr style=\"text-align: right;\">\n",
       "      <th></th>\n",
       "      <th>Bedroom</th>\n",
       "      <th>Bathroom</th>\n",
       "      <th>Den</th>\n",
       "      <th>Lat</th>\n",
       "      <th>Long</th>\n",
       "      <th>Price</th>\n",
       "    </tr>\n",
       "  </thead>\n",
       "  <tbody>\n",
       "    <tr>\n",
       "      <th>count</th>\n",
       "      <td>1124.000000</td>\n",
       "      <td>1124.000000</td>\n",
       "      <td>1124.000000</td>\n",
       "      <td>1124.000000</td>\n",
       "      <td>1124.000000</td>\n",
       "      <td>1124.000000</td>\n",
       "    </tr>\n",
       "    <tr>\n",
       "      <th>mean</th>\n",
       "      <td>1.370107</td>\n",
       "      <td>1.237544</td>\n",
       "      <td>0.153025</td>\n",
       "      <td>43.703532</td>\n",
       "      <td>-79.500326</td>\n",
       "      <td>3627.912811</td>\n",
       "    </tr>\n",
       "    <tr>\n",
       "      <th>std</th>\n",
       "      <td>0.553493</td>\n",
       "      <td>0.431997</td>\n",
       "      <td>0.360172</td>\n",
       "      <td>0.692689</td>\n",
       "      <td>1.760654</td>\n",
       "      <td>27530.542058</td>\n",
       "    </tr>\n",
       "    <tr>\n",
       "      <th>min</th>\n",
       "      <td>1.000000</td>\n",
       "      <td>1.000000</td>\n",
       "      <td>0.000000</td>\n",
       "      <td>42.985767</td>\n",
       "      <td>-114.082215</td>\n",
       "      <td>65.000000</td>\n",
       "    </tr>\n",
       "    <tr>\n",
       "      <th>25%</th>\n",
       "      <td>1.000000</td>\n",
       "      <td>1.000000</td>\n",
       "      <td>0.000000</td>\n",
       "      <td>43.641355</td>\n",
       "      <td>-79.414319</td>\n",
       "      <td>1759.250000</td>\n",
       "    </tr>\n",
       "    <tr>\n",
       "      <th>50%</th>\n",
       "      <td>1.000000</td>\n",
       "      <td>1.000000</td>\n",
       "      <td>0.000000</td>\n",
       "      <td>43.650560</td>\n",
       "      <td>-79.387295</td>\n",
       "      <td>2100.000000</td>\n",
       "    </tr>\n",
       "    <tr>\n",
       "      <th>75%</th>\n",
       "      <td>2.000000</td>\n",
       "      <td>1.000000</td>\n",
       "      <td>0.000000</td>\n",
       "      <td>43.666613</td>\n",
       "      <td>-79.377198</td>\n",
       "      <td>2500.000000</td>\n",
       "    </tr>\n",
       "    <tr>\n",
       "      <th>max</th>\n",
       "      <td>3.000000</td>\n",
       "      <td>3.000000</td>\n",
       "      <td>1.000000</td>\n",
       "      <td>56.130366</td>\n",
       "      <td>-73.576385</td>\n",
       "      <td>535000.000000</td>\n",
       "    </tr>\n",
       "  </tbody>\n",
       "</table>\n",
       "</div>"
      ],
      "text/plain": [
       "           Bedroom     Bathroom          Den          Lat         Long  \\\n",
       "count  1124.000000  1124.000000  1124.000000  1124.000000  1124.000000   \n",
       "mean      1.370107     1.237544     0.153025    43.703532   -79.500326   \n",
       "std       0.553493     0.431997     0.360172     0.692689     1.760654   \n",
       "min       1.000000     1.000000     0.000000    42.985767  -114.082215   \n",
       "25%       1.000000     1.000000     0.000000    43.641355   -79.414319   \n",
       "50%       1.000000     1.000000     0.000000    43.650560   -79.387295   \n",
       "75%       2.000000     1.000000     0.000000    43.666613   -79.377198   \n",
       "max       3.000000     3.000000     1.000000    56.130366   -73.576385   \n",
       "\n",
       "               Price  \n",
       "count    1124.000000  \n",
       "mean     3627.912811  \n",
       "std     27530.542058  \n",
       "min        65.000000  \n",
       "25%      1759.250000  \n",
       "50%      2100.000000  \n",
       "75%      2500.000000  \n",
       "max    535000.000000  "
      ]
     },
     "execution_count": 3,
     "metadata": {},
     "output_type": "execute_result"
    }
   ],
   "source": [
    "df.describe()"
   ]
  },
  {
   "cell_type": "code",
   "execution_count": 4,
   "metadata": {},
   "outputs": [
    {
     "data": {
      "text/html": [
       "<div>\n",
       "<style scoped>\n",
       "    .dataframe tbody tr th:only-of-type {\n",
       "        vertical-align: middle;\n",
       "    }\n",
       "\n",
       "    .dataframe tbody tr th {\n",
       "        vertical-align: top;\n",
       "    }\n",
       "\n",
       "    .dataframe thead th {\n",
       "        text-align: right;\n",
       "    }\n",
       "</style>\n",
       "<table border=\"1\" class=\"dataframe\">\n",
       "  <thead>\n",
       "    <tr style=\"text-align: right;\">\n",
       "      <th></th>\n",
       "      <th>Bedroom</th>\n",
       "      <th>Bathroom</th>\n",
       "      <th>Den</th>\n",
       "      <th>Lat</th>\n",
       "      <th>Long</th>\n",
       "      <th>Price</th>\n",
       "    </tr>\n",
       "  </thead>\n",
       "  <tbody>\n",
       "    <tr>\n",
       "      <th>count</th>\n",
       "      <td>1083.000000</td>\n",
       "      <td>1083.000000</td>\n",
       "      <td>1083.000000</td>\n",
       "      <td>1083.000000</td>\n",
       "      <td>1083.000000</td>\n",
       "      <td>1083.000000</td>\n",
       "    </tr>\n",
       "    <tr>\n",
       "      <th>mean</th>\n",
       "      <td>1.361958</td>\n",
       "      <td>1.235457</td>\n",
       "      <td>0.151431</td>\n",
       "      <td>43.658790</td>\n",
       "      <td>-79.407203</td>\n",
       "      <td>3686.939058</td>\n",
       "    </tr>\n",
       "    <tr>\n",
       "      <th>std</th>\n",
       "      <td>0.545620</td>\n",
       "      <td>0.431498</td>\n",
       "      <td>0.358634</td>\n",
       "      <td>0.105970</td>\n",
       "      <td>0.196322</td>\n",
       "      <td>28045.175699</td>\n",
       "    </tr>\n",
       "    <tr>\n",
       "      <th>min</th>\n",
       "      <td>1.000000</td>\n",
       "      <td>1.000000</td>\n",
       "      <td>0.000000</td>\n",
       "      <td>42.985767</td>\n",
       "      <td>-81.243808</td>\n",
       "      <td>65.000000</td>\n",
       "    </tr>\n",
       "    <tr>\n",
       "      <th>25%</th>\n",
       "      <td>1.000000</td>\n",
       "      <td>1.000000</td>\n",
       "      <td>0.000000</td>\n",
       "      <td>43.641159</td>\n",
       "      <td>-79.413712</td>\n",
       "      <td>1777.000000</td>\n",
       "    </tr>\n",
       "    <tr>\n",
       "      <th>50%</th>\n",
       "      <td>1.000000</td>\n",
       "      <td>1.000000</td>\n",
       "      <td>0.000000</td>\n",
       "      <td>43.650092</td>\n",
       "      <td>-79.387295</td>\n",
       "      <td>2100.000000</td>\n",
       "    </tr>\n",
       "    <tr>\n",
       "      <th>75%</th>\n",
       "      <td>2.000000</td>\n",
       "      <td>1.000000</td>\n",
       "      <td>0.000000</td>\n",
       "      <td>43.665588</td>\n",
       "      <td>-79.377268</td>\n",
       "      <td>2500.000000</td>\n",
       "    </tr>\n",
       "    <tr>\n",
       "      <th>max</th>\n",
       "      <td>3.000000</td>\n",
       "      <td>3.000000</td>\n",
       "      <td>1.000000</td>\n",
       "      <td>44.121069</td>\n",
       "      <td>-77.888152</td>\n",
       "      <td>535000.000000</td>\n",
       "    </tr>\n",
       "  </tbody>\n",
       "</table>\n",
       "</div>"
      ],
      "text/plain": [
       "           Bedroom     Bathroom          Den          Lat         Long  \\\n",
       "count  1083.000000  1083.000000  1083.000000  1083.000000  1083.000000   \n",
       "mean      1.361958     1.235457     0.151431    43.658790   -79.407203   \n",
       "std       0.545620     0.431498     0.358634     0.105970     0.196322   \n",
       "min       1.000000     1.000000     0.000000    42.985767   -81.243808   \n",
       "25%       1.000000     1.000000     0.000000    43.641159   -79.413712   \n",
       "50%       1.000000     1.000000     0.000000    43.650092   -79.387295   \n",
       "75%       2.000000     1.000000     0.000000    43.665588   -79.377268   \n",
       "max       3.000000     3.000000     1.000000    44.121069   -77.888152   \n",
       "\n",
       "               Price  \n",
       "count    1083.000000  \n",
       "mean     3686.939058  \n",
       "std     28045.175699  \n",
       "min        65.000000  \n",
       "25%      1777.000000  \n",
       "50%      2100.000000  \n",
       "75%      2500.000000  \n",
       "max    535000.000000  "
      ]
     },
     "execution_count": 4,
     "metadata": {},
     "output_type": "execute_result"
    }
   ],
   "source": [
    "### Make sure only Ontario records. If not remove them\n",
    "df = df[df['Address'].str.contains(\"ON\")]\n",
    "df.describe()"
   ]
  },
  {
   "cell_type": "code",
   "execution_count": 5,
   "metadata": {},
   "outputs": [
    {
     "data": {
      "text/html": [
       "<div>\n",
       "<style scoped>\n",
       "    .dataframe tbody tr th:only-of-type {\n",
       "        vertical-align: middle;\n",
       "    }\n",
       "\n",
       "    .dataframe tbody tr th {\n",
       "        vertical-align: top;\n",
       "    }\n",
       "\n",
       "    .dataframe thead th {\n",
       "        text-align: right;\n",
       "    }\n",
       "</style>\n",
       "<table border=\"1\" class=\"dataframe\">\n",
       "  <thead>\n",
       "    <tr style=\"text-align: right;\">\n",
       "      <th></th>\n",
       "      <th>Bedroom</th>\n",
       "      <th>Bathroom</th>\n",
       "      <th>Den</th>\n",
       "      <th>Lat</th>\n",
       "      <th>Long</th>\n",
       "      <th>Price</th>\n",
       "    </tr>\n",
       "  </thead>\n",
       "  <tbody>\n",
       "    <tr>\n",
       "      <th>count</th>\n",
       "      <td>784.000000</td>\n",
       "      <td>784.000000</td>\n",
       "      <td>784.000000</td>\n",
       "      <td>784.000000</td>\n",
       "      <td>784.000000</td>\n",
       "      <td>784.000000</td>\n",
       "    </tr>\n",
       "    <tr>\n",
       "      <th>mean</th>\n",
       "      <td>1.358418</td>\n",
       "      <td>1.239158</td>\n",
       "      <td>0.151786</td>\n",
       "      <td>43.661334</td>\n",
       "      <td>-79.401948</td>\n",
       "      <td>2905.955357</td>\n",
       "    </tr>\n",
       "    <tr>\n",
       "      <th>std</th>\n",
       "      <td>0.558556</td>\n",
       "      <td>0.439011</td>\n",
       "      <td>0.359042</td>\n",
       "      <td>0.107338</td>\n",
       "      <td>0.202481</td>\n",
       "      <td>19084.626181</td>\n",
       "    </tr>\n",
       "    <tr>\n",
       "      <th>min</th>\n",
       "      <td>1.000000</td>\n",
       "      <td>1.000000</td>\n",
       "      <td>0.000000</td>\n",
       "      <td>42.985767</td>\n",
       "      <td>-81.243808</td>\n",
       "      <td>65.000000</td>\n",
       "    </tr>\n",
       "    <tr>\n",
       "      <th>25%</th>\n",
       "      <td>1.000000</td>\n",
       "      <td>1.000000</td>\n",
       "      <td>0.000000</td>\n",
       "      <td>43.641594</td>\n",
       "      <td>-79.409837</td>\n",
       "      <td>1750.000000</td>\n",
       "    </tr>\n",
       "    <tr>\n",
       "      <th>50%</th>\n",
       "      <td>1.000000</td>\n",
       "      <td>1.000000</td>\n",
       "      <td>0.000000</td>\n",
       "      <td>43.651070</td>\n",
       "      <td>-79.387295</td>\n",
       "      <td>2100.000000</td>\n",
       "    </tr>\n",
       "    <tr>\n",
       "      <th>75%</th>\n",
       "      <td>2.000000</td>\n",
       "      <td>1.000000</td>\n",
       "      <td>0.000000</td>\n",
       "      <td>43.666751</td>\n",
       "      <td>-79.376850</td>\n",
       "      <td>2500.000000</td>\n",
       "    </tr>\n",
       "    <tr>\n",
       "      <th>max</th>\n",
       "      <td>3.000000</td>\n",
       "      <td>3.000000</td>\n",
       "      <td>1.000000</td>\n",
       "      <td>44.121069</td>\n",
       "      <td>-77.888152</td>\n",
       "      <td>535000.000000</td>\n",
       "    </tr>\n",
       "  </tbody>\n",
       "</table>\n",
       "</div>"
      ],
      "text/plain": [
       "          Bedroom    Bathroom         Den         Lat        Long  \\\n",
       "count  784.000000  784.000000  784.000000  784.000000  784.000000   \n",
       "mean     1.358418    1.239158    0.151786   43.661334  -79.401948   \n",
       "std      0.558556    0.439011    0.359042    0.107338    0.202481   \n",
       "min      1.000000    1.000000    0.000000   42.985767  -81.243808   \n",
       "25%      1.000000    1.000000    0.000000   43.641594  -79.409837   \n",
       "50%      1.000000    1.000000    0.000000   43.651070  -79.387295   \n",
       "75%      2.000000    1.000000    0.000000   43.666751  -79.376850   \n",
       "max      3.000000    3.000000    1.000000   44.121069  -77.888152   \n",
       "\n",
       "               Price  \n",
       "count     784.000000  \n",
       "mean     2905.955357  \n",
       "std     19084.626181  \n",
       "min        65.000000  \n",
       "25%      1750.000000  \n",
       "50%      2100.000000  \n",
       "75%      2500.000000  \n",
       "max    535000.000000  "
      ]
     },
     "execution_count": 5,
     "metadata": {},
     "output_type": "execute_result"
    }
   ],
   "source": [
    "### Clean the data\n",
    "### remove null records and duplicate records\n",
    "df_clean=df.dropna().drop_duplicates(keep='first').reset_index(drop=True)\n",
    "df_clean.describe()"
   ]
  },
  {
   "cell_type": "code",
   "execution_count": 6,
   "metadata": {},
   "outputs": [
    {
     "data": {
      "text/plain": [
       "Text(0.5,1,'Checking for outliers in price')"
      ]
     },
     "execution_count": 6,
     "metadata": {},
     "output_type": "execute_result"
    },
    {
     "data": {
      "image/png": "[encoded data removed]",
      "text/plain": [
       "<Figure size 432x288 with 1 Axes>"
      ]
     },
     "metadata": {},
     "output_type": "display_data"
    }
   ],
   "source": [
    "### Checking for outliers in price\n",
    "box_plot = df_clean['Price']\n",
    "sns.boxplot(data=box_plot)\n",
    "plt.title(\"Checking for outliers in price\")"
   ]
  },
  {
   "cell_type": "code",
   "execution_count": 7,
   "metadata": {},
   "outputs": [
    {
     "data": {
      "text/html": [
       "<div>\n",
       "<style scoped>\n",
       "    .dataframe tbody tr th:only-of-type {\n",
       "        vertical-align: middle;\n",
       "    }\n",
       "\n",
       "    .dataframe tbody tr th {\n",
       "        vertical-align: top;\n",
       "    }\n",
       "\n",
       "    .dataframe thead th {\n",
       "        text-align: right;\n",
       "    }\n",
       "</style>\n",
       "<table border=\"1\" class=\"dataframe\">\n",
       "  <thead>\n",
       "    <tr style=\"text-align: right;\">\n",
       "      <th></th>\n",
       "      <th>Bedroom</th>\n",
       "      <th>Bathroom</th>\n",
       "      <th>Den</th>\n",
       "      <th>Lat</th>\n",
       "      <th>Long</th>\n",
       "      <th>Price</th>\n",
       "    </tr>\n",
       "  </thead>\n",
       "  <tbody>\n",
       "    <tr>\n",
       "      <th>count</th>\n",
       "      <td>783.000000</td>\n",
       "      <td>783.000000</td>\n",
       "      <td>783.000000</td>\n",
       "      <td>783.000000</td>\n",
       "      <td>783.000000</td>\n",
       "      <td>783.000000</td>\n",
       "    </tr>\n",
       "    <tr>\n",
       "      <th>mean</th>\n",
       "      <td>1.358876</td>\n",
       "      <td>1.239464</td>\n",
       "      <td>0.151980</td>\n",
       "      <td>43.661323</td>\n",
       "      <td>-79.401976</td>\n",
       "      <td>2226.397190</td>\n",
       "    </tr>\n",
       "    <tr>\n",
       "      <th>std</th>\n",
       "      <td>0.558766</td>\n",
       "      <td>0.439208</td>\n",
       "      <td>0.359231</td>\n",
       "      <td>0.107406</td>\n",
       "      <td>0.202609</td>\n",
       "      <td>1474.815749</td>\n",
       "    </tr>\n",
       "    <tr>\n",
       "      <th>min</th>\n",
       "      <td>1.000000</td>\n",
       "      <td>1.000000</td>\n",
       "      <td>0.000000</td>\n",
       "      <td>42.985767</td>\n",
       "      <td>-81.243808</td>\n",
       "      <td>65.000000</td>\n",
       "    </tr>\n",
       "    <tr>\n",
       "      <th>25%</th>\n",
       "      <td>1.000000</td>\n",
       "      <td>1.000000</td>\n",
       "      <td>0.000000</td>\n",
       "      <td>43.641591</td>\n",
       "      <td>-79.409872</td>\n",
       "      <td>1750.000000</td>\n",
       "    </tr>\n",
       "    <tr>\n",
       "      <th>50%</th>\n",
       "      <td>1.000000</td>\n",
       "      <td>1.000000</td>\n",
       "      <td>0.000000</td>\n",
       "      <td>43.650560</td>\n",
       "      <td>-79.387295</td>\n",
       "      <td>2100.000000</td>\n",
       "    </tr>\n",
       "    <tr>\n",
       "      <th>75%</th>\n",
       "      <td>2.000000</td>\n",
       "      <td>1.000000</td>\n",
       "      <td>0.000000</td>\n",
       "      <td>43.666731</td>\n",
       "      <td>-79.376798</td>\n",
       "      <td>2500.000000</td>\n",
       "    </tr>\n",
       "    <tr>\n",
       "      <th>max</th>\n",
       "      <td>3.000000</td>\n",
       "      <td>3.000000</td>\n",
       "      <td>1.000000</td>\n",
       "      <td>44.121069</td>\n",
       "      <td>-77.888152</td>\n",
       "      <td>36900.000000</td>\n",
       "    </tr>\n",
       "  </tbody>\n",
       "</table>\n",
       "</div>"
      ],
      "text/plain": [
       "          Bedroom    Bathroom         Den         Lat        Long  \\\n",
       "count  783.000000  783.000000  783.000000  783.000000  783.000000   \n",
       "mean     1.358876    1.239464    0.151980   43.661323  -79.401976   \n",
       "std      0.558766    0.439208    0.359231    0.107406    0.202609   \n",
       "min      1.000000    1.000000    0.000000   42.985767  -81.243808   \n",
       "25%      1.000000    1.000000    0.000000   43.641591  -79.409872   \n",
       "50%      1.000000    1.000000    0.000000   43.650560  -79.387295   \n",
       "75%      2.000000    1.000000    0.000000   43.666731  -79.376798   \n",
       "max      3.000000    3.000000    1.000000   44.121069  -77.888152   \n",
       "\n",
       "              Price  \n",
       "count    783.000000  \n",
       "mean    2226.397190  \n",
       "std     1474.815749  \n",
       "min       65.000000  \n",
       "25%     1750.000000  \n",
       "50%     2100.000000  \n",
       "75%     2500.000000  \n",
       "max    36900.000000  "
      ]
     },
     "execution_count": 7,
     "metadata": {},
     "output_type": "execute_result"
    }
   ],
   "source": [
    "### There are 2 outliers, but one is extremely out of range.\n",
    "### Remove the outlier with the price 535,000 as this is not realistic\n",
    "df_clean=df_clean.drop(df_clean.loc[df_clean['Price']==535000].index)\n",
    "df_clean.describe()"
   ]
  },
  {
   "cell_type": "code",
   "execution_count": 8,
   "metadata": {},
   "outputs": [
    {
     "data": {
      "text/plain": [
       "Text(0.5,1,'Checking for outliers in price')"
      ]
     },
     "execution_count": 8,
     "metadata": {},
     "output_type": "execute_result"
    },
    {
     "data": {
      "image/png": "[encoded data removed]",
      "text/plain": [
       "<Figure size 432x288 with 1 Axes>"
      ]
     },
     "metadata": {},
     "output_type": "display_data"
    }
   ],
   "source": [
    "### Checking for outliers in price\n",
    "box_plot = df_clean['Price']\n",
    "sns.boxplot(data=box_plot)\n",
    "plt.title(\"Checking for outliers in price\")"
   ]
  },
  {
   "cell_type": "code",
   "execution_count": 9,
   "metadata": {},
   "outputs": [
    {
     "data": {
      "text/plain": [
       "<matplotlib.axes._subplots.AxesSubplot at 0x1c4c9d3de48>"
      ]
     },
     "execution_count": 9,
     "metadata": {},
     "output_type": "execute_result"
    },
    {
     "data": {
      "image/png": "[encoded data removed]",
      "text/plain": [
       "<Figure size 432x288 with 1 Axes>"
      ]
     },
     "metadata": {},
     "output_type": "display_data"
    }
   ],
   "source": [
    "### Rent amount 36,900 is also not realistic.\n",
    "###Remove the outlier with the price 36,900\n",
    "df_clean=df_clean.drop(df_clean.loc[df_clean['Price']==36900].index)\n",
    "\n",
    "### Checking for outliers in price\n",
    "box_plot = df_clean['Price']\n",
    "sns.boxplot(data=box_plot)"
   ]
  },
  {
   "cell_type": "code",
   "execution_count": 10,
   "metadata": {},
   "outputs": [
    {
     "data": {
      "text/html": [
       "<div>\n",
       "<style scoped>\n",
       "    .dataframe tbody tr th:only-of-type {\n",
       "        vertical-align: middle;\n",
       "    }\n",
       "\n",
       "    .dataframe tbody tr th {\n",
       "        vertical-align: top;\n",
       "    }\n",
       "\n",
       "    .dataframe thead th {\n",
       "        text-align: right;\n",
       "    }\n",
       "</style>\n",
       "<table border=\"1\" class=\"dataframe\">\n",
       "  <thead>\n",
       "    <tr style=\"text-align: right;\">\n",
       "      <th></th>\n",
       "      <th>Bedroom</th>\n",
       "      <th>Bathroom</th>\n",
       "      <th>Den</th>\n",
       "      <th>Address</th>\n",
       "      <th>Lat</th>\n",
       "      <th>Long</th>\n",
       "      <th>Price</th>\n",
       "    </tr>\n",
       "  </thead>\n",
       "  <tbody>\n",
       "    <tr>\n",
       "      <th>515</th>\n",
       "      <td>1</td>\n",
       "      <td>2.0</td>\n",
       "      <td>0</td>\n",
       "      <td>Euclid Ave, Toronto, ON, Canada</td>\n",
       "      <td>43.658689</td>\n",
       "      <td>-79.412577</td>\n",
       "      <td>65</td>\n",
       "    </tr>\n",
       "    <tr>\n",
       "      <th>0</th>\n",
       "      <td>1</td>\n",
       "      <td>1.0</td>\n",
       "      <td>0</td>\n",
       "      <td>8 Wellesley St E, Toronto, ON M4Y 3B2, Canada</td>\n",
       "      <td>43.665233</td>\n",
       "      <td>-79.384293</td>\n",
       "      <td>99</td>\n",
       "    </tr>\n",
       "    <tr>\n",
       "      <th>516</th>\n",
       "      <td>1</td>\n",
       "      <td>2.0</td>\n",
       "      <td>1</td>\n",
       "      <td>2121 Lake Shore Blvd W, Etobicoke, ON M8V 4E9,...</td>\n",
       "      <td>43.627447</td>\n",
       "      <td>-79.478374</td>\n",
       "      <td>99</td>\n",
       "    </tr>\n",
       "    <tr>\n",
       "      <th>1</th>\n",
       "      <td>1</td>\n",
       "      <td>1.0</td>\n",
       "      <td>0</td>\n",
       "      <td>, Toronro M4V 1N5 ON, Canada</td>\n",
       "      <td>43.686511</td>\n",
       "      <td>-79.399522</td>\n",
       "      <td>150</td>\n",
       "    </tr>\n",
       "    <tr>\n",
       "      <th>2</th>\n",
       "      <td>1</td>\n",
       "      <td>1.0</td>\n",
       "      <td>0</td>\n",
       "      <td>195 Wynford Dr, North York, ON M3C 3P3, Canada</td>\n",
       "      <td>43.723587</td>\n",
       "      <td>-79.324879</td>\n",
       "      <td>300</td>\n",
       "    </tr>\n",
       "    <tr>\n",
       "      <th>3</th>\n",
       "      <td>1</td>\n",
       "      <td>1.0</td>\n",
       "      <td>0</td>\n",
       "      <td>89 Chestnut St, Toronto, ON M5G 1R1, Canada</td>\n",
       "      <td>43.654155</td>\n",
       "      <td>-79.385211</td>\n",
       "      <td>550</td>\n",
       "    </tr>\n",
       "    <tr>\n",
       "      <th>535</th>\n",
       "      <td>2</td>\n",
       "      <td>1.0</td>\n",
       "      <td>0</td>\n",
       "      <td>Bathurst St, Toronto, ON M5S 2P9, Canada</td>\n",
       "      <td>43.658278</td>\n",
       "      <td>-79.408437</td>\n",
       "      <td>600</td>\n",
       "    </tr>\n",
       "    <tr>\n",
       "      <th>4</th>\n",
       "      <td>1</td>\n",
       "      <td>1.0</td>\n",
       "      <td>0</td>\n",
       "      <td>, Toronto m5s1x6 ON, Canada</td>\n",
       "      <td>43.665956</td>\n",
       "      <td>-79.404799</td>\n",
       "      <td>650</td>\n",
       "    </tr>\n",
       "    <tr>\n",
       "      <th>7</th>\n",
       "      <td>1</td>\n",
       "      <td>1.0</td>\n",
       "      <td>0</td>\n",
       "      <td>, Toronto M5G 1B1 ON</td>\n",
       "      <td>43.654723</td>\n",
       "      <td>-79.381400</td>\n",
       "      <td>700</td>\n",
       "    </tr>\n",
       "    <tr>\n",
       "      <th>5</th>\n",
       "      <td>1</td>\n",
       "      <td>1.0</td>\n",
       "      <td>0</td>\n",
       "      <td>, toronto m4b2z5 ON, Canada</td>\n",
       "      <td>43.705190</td>\n",
       "      <td>-79.323847</td>\n",
       "      <td>700</td>\n",
       "    </tr>\n",
       "  </tbody>\n",
       "</table>\n",
       "</div>"
      ],
      "text/plain": [
       "     Bedroom  Bathroom  Den  \\\n",
       "515        1       2.0    0   \n",
       "0          1       1.0    0   \n",
       "516        1       2.0    1   \n",
       "1          1       1.0    0   \n",
       "2          1       1.0    0   \n",
       "3          1       1.0    0   \n",
       "535        2       1.0    0   \n",
       "4          1       1.0    0   \n",
       "7          1       1.0    0   \n",
       "5          1       1.0    0   \n",
       "\n",
       "                                               Address        Lat       Long  \\\n",
       "515                    Euclid Ave, Toronto, ON, Canada  43.658689 -79.412577   \n",
       "0        8 Wellesley St E, Toronto, ON M4Y 3B2, Canada  43.665233 -79.384293   \n",
       "516  2121 Lake Shore Blvd W, Etobicoke, ON M8V 4E9,...  43.627447 -79.478374   \n",
       "1                         , Toronro M4V 1N5 ON, Canada  43.686511 -79.399522   \n",
       "2       195 Wynford Dr, North York, ON M3C 3P3, Canada  43.723587 -79.324879   \n",
       "3          89 Chestnut St, Toronto, ON M5G 1R1, Canada  43.654155 -79.385211   \n",
       "535           Bathurst St, Toronto, ON M5S 2P9, Canada  43.658278 -79.408437   \n",
       "4                          , Toronto m5s1x6 ON, Canada  43.665956 -79.404799   \n",
       "7                                 , Toronto M5G 1B1 ON  43.654723 -79.381400   \n",
       "5                          , toronto m4b2z5 ON, Canada  43.705190 -79.323847   \n",
       "\n",
       "     Price  \n",
       "515     65  \n",
       "0       99  \n",
       "516     99  \n",
       "1      150  \n",
       "2      300  \n",
       "3      550  \n",
       "535    600  \n",
       "4      650  \n",
       "7      700  \n",
       "5      700  "
      ]
     },
     "execution_count": 10,
     "metadata": {},
     "output_type": "execute_result"
    }
   ],
   "source": [
    "df_clean.sort_values(\"Price\").head(10)"
   ]
  },
  {
   "cell_type": "code",
   "execution_count": 11,
   "metadata": {},
   "outputs": [],
   "source": [
    "### Remove further outliers in Price. \n",
    "#### A single bed room apartment rental price less than or equal 300 is not realistic\n",
    "df_clean=df_clean.drop(df_clean.loc[df_clean['Price'] <= 300].index)"
   ]
  },
  {
   "cell_type": "code",
   "execution_count": 12,
   "metadata": {},
   "outputs": [
    {
     "data": {
      "text/html": [
       "<div>\n",
       "<style scoped>\n",
       "    .dataframe tbody tr th:only-of-type {\n",
       "        vertical-align: middle;\n",
       "    }\n",
       "\n",
       "    .dataframe tbody tr th {\n",
       "        vertical-align: top;\n",
       "    }\n",
       "\n",
       "    .dataframe thead th {\n",
       "        text-align: right;\n",
       "    }\n",
       "</style>\n",
       "<table border=\"1\" class=\"dataframe\">\n",
       "  <thead>\n",
       "    <tr style=\"text-align: right;\">\n",
       "      <th></th>\n",
       "      <th>Postcode</th>\n",
       "      <th>Borough</th>\n",
       "    </tr>\n",
       "  </thead>\n",
       "  <tbody>\n",
       "    <tr>\n",
       "      <th>0</th>\n",
       "      <td>M1A</td>\n",
       "      <td>Not assigned</td>\n",
       "    </tr>\n",
       "    <tr>\n",
       "      <th>1</th>\n",
       "      <td>M2A</td>\n",
       "      <td>Not assigned</td>\n",
       "    </tr>\n",
       "    <tr>\n",
       "      <th>2</th>\n",
       "      <td>M3A</td>\n",
       "      <td>North York</td>\n",
       "    </tr>\n",
       "    <tr>\n",
       "      <th>3</th>\n",
       "      <td>M4A</td>\n",
       "      <td>North York</td>\n",
       "    </tr>\n",
       "    <tr>\n",
       "      <th>4</th>\n",
       "      <td>M5A</td>\n",
       "      <td>Downtown Toronto</td>\n",
       "    </tr>\n",
       "  </tbody>\n",
       "</table>\n",
       "</div>"
      ],
      "text/plain": [
       "  Postcode           Borough\n",
       "0      M1A      Not assigned\n",
       "1      M2A      Not assigned\n",
       "2      M3A        North York\n",
       "3      M4A        North York\n",
       "4      M5A  Downtown Toronto"
      ]
     },
     "execution_count": 12,
     "metadata": {},
     "output_type": "execute_result"
    }
   ],
   "source": [
    "### Get the Postalcode detail\n",
    "df_postal = pd.read_excel('toronto_postal_detail.xlsx', sheet_name='postal-borough', skiprows=0)\n",
    "df_postal.head()"
   ]
  },
  {
   "cell_type": "code",
   "execution_count": 13,
   "metadata": {},
   "outputs": [
    {
     "data": {
      "text/html": [
       "<div>\n",
       "<style scoped>\n",
       "    .dataframe tbody tr th:only-of-type {\n",
       "        vertical-align: middle;\n",
       "    }\n",
       "\n",
       "    .dataframe tbody tr th {\n",
       "        vertical-align: top;\n",
       "    }\n",
       "\n",
       "    .dataframe thead th {\n",
       "        text-align: right;\n",
       "    }\n",
       "</style>\n",
       "<table border=\"1\" class=\"dataframe\">\n",
       "  <thead>\n",
       "    <tr style=\"text-align: right;\">\n",
       "      <th></th>\n",
       "      <th>Bedroom</th>\n",
       "      <th>Bathroom</th>\n",
       "      <th>Den</th>\n",
       "      <th>Address</th>\n",
       "      <th>Lat</th>\n",
       "      <th>Long</th>\n",
       "      <th>Price</th>\n",
       "      <th>ZIP</th>\n",
       "    </tr>\n",
       "  </thead>\n",
       "  <tbody>\n",
       "    <tr>\n",
       "      <th>3</th>\n",
       "      <td>1</td>\n",
       "      <td>1.0</td>\n",
       "      <td>0</td>\n",
       "      <td>89 Chestnut St, Toronto, ON M5G 1R1, Canada</td>\n",
       "      <td>43.654155</td>\n",
       "      <td>-79.385211</td>\n",
       "      <td>550</td>\n",
       "      <td>M5G</td>\n",
       "    </tr>\n",
       "    <tr>\n",
       "      <th>4</th>\n",
       "      <td>1</td>\n",
       "      <td>1.0</td>\n",
       "      <td>0</td>\n",
       "      <td>, Toronto m5s1x6 ON, Canada</td>\n",
       "      <td>43.665956</td>\n",
       "      <td>-79.404799</td>\n",
       "      <td>650</td>\n",
       "      <td>M5S</td>\n",
       "    </tr>\n",
       "    <tr>\n",
       "      <th>5</th>\n",
       "      <td>1</td>\n",
       "      <td>1.0</td>\n",
       "      <td>0</td>\n",
       "      <td>, toronto m4b2z5 ON, Canada</td>\n",
       "      <td>43.705190</td>\n",
       "      <td>-79.323847</td>\n",
       "      <td>700</td>\n",
       "      <td>M4B</td>\n",
       "    </tr>\n",
       "    <tr>\n",
       "      <th>6</th>\n",
       "      <td>1</td>\n",
       "      <td>1.0</td>\n",
       "      <td>0</td>\n",
       "      <td>, M5A 2V3, Toronto, ON</td>\n",
       "      <td>43.654228</td>\n",
       "      <td>-79.367015</td>\n",
       "      <td>700</td>\n",
       "      <td>M5A</td>\n",
       "    </tr>\n",
       "    <tr>\n",
       "      <th>7</th>\n",
       "      <td>1</td>\n",
       "      <td>1.0</td>\n",
       "      <td>0</td>\n",
       "      <td>, Toronto M5G 1B1 ON</td>\n",
       "      <td>43.654723</td>\n",
       "      <td>-79.381400</td>\n",
       "      <td>700</td>\n",
       "      <td>M5G</td>\n",
       "    </tr>\n",
       "  </tbody>\n",
       "</table>\n",
       "</div>"
      ],
      "text/plain": [
       "   Bedroom  Bathroom  Den                                      Address  \\\n",
       "3        1       1.0    0  89 Chestnut St, Toronto, ON M5G 1R1, Canada   \n",
       "4        1       1.0    0                  , Toronto m5s1x6 ON, Canada   \n",
       "5        1       1.0    0                  , toronto m4b2z5 ON, Canada   \n",
       "6        1       1.0    0                       , M5A 2V3, Toronto, ON   \n",
       "7        1       1.0    0                         , Toronto M5G 1B1 ON   \n",
       "\n",
       "         Lat       Long  Price  ZIP  \n",
       "3  43.654155 -79.385211    550  M5G  \n",
       "4  43.665956 -79.404799    650  M5S  \n",
       "5  43.705190 -79.323847    700  M4B  \n",
       "6  43.654228 -79.367015    700  M5A  \n",
       "7  43.654723 -79.381400    700  M5G  "
      ]
     },
     "execution_count": 13,
     "metadata": {},
     "output_type": "execute_result"
    }
   ],
   "source": [
    "import re\n",
    "def get_postalcode(addr):\n",
    "    try:\n",
    "        test = re.compile(r'[A-Z]\\d[A-Z]')\n",
    "        pos= test.search(addr.upper()).group()\n",
    "    except:\n",
    "        pos = \"NAN\"\n",
    "    return pos\n",
    "\n",
    "### Add a new column \"POS\" (First 3 character of the postal code) to the data\n",
    "df_clean['ZIP'] = df_clean.apply(lambda row: get_postalcode(row['Address']), axis=1)\n",
    "df_clean.head()"
   ]
  },
  {
   "cell_type": "code",
   "execution_count": 14,
   "metadata": {},
   "outputs": [
    {
     "data": {
      "text/html": [
       "<div>\n",
       "<style scoped>\n",
       "    .dataframe tbody tr th:only-of-type {\n",
       "        vertical-align: middle;\n",
       "    }\n",
       "\n",
       "    .dataframe tbody tr th {\n",
       "        vertical-align: top;\n",
       "    }\n",
       "\n",
       "    .dataframe thead th {\n",
       "        text-align: right;\n",
       "    }\n",
       "</style>\n",
       "<table border=\"1\" class=\"dataframe\">\n",
       "  <thead>\n",
       "    <tr style=\"text-align: right;\">\n",
       "      <th></th>\n",
       "      <th>Bedroom</th>\n",
       "      <th>Bathroom</th>\n",
       "      <th>Den</th>\n",
       "      <th>Address</th>\n",
       "      <th>Lat</th>\n",
       "      <th>Long</th>\n",
       "      <th>Price</th>\n",
       "      <th>ZIP</th>\n",
       "      <th>Borough</th>\n",
       "    </tr>\n",
       "  </thead>\n",
       "  <tbody>\n",
       "    <tr>\n",
       "      <th>3</th>\n",
       "      <td>1</td>\n",
       "      <td>1.0</td>\n",
       "      <td>0</td>\n",
       "      <td>89 Chestnut St, Toronto, ON M5G 1R1, Canada</td>\n",
       "      <td>43.654155</td>\n",
       "      <td>-79.385211</td>\n",
       "      <td>550</td>\n",
       "      <td>M5G</td>\n",
       "      <td>Downtown Toronto</td>\n",
       "    </tr>\n",
       "    <tr>\n",
       "      <th>4</th>\n",
       "      <td>1</td>\n",
       "      <td>1.0</td>\n",
       "      <td>0</td>\n",
       "      <td>, Toronto m5s1x6 ON, Canada</td>\n",
       "      <td>43.665956</td>\n",
       "      <td>-79.404799</td>\n",
       "      <td>650</td>\n",
       "      <td>M5S</td>\n",
       "      <td>Downtown Toronto</td>\n",
       "    </tr>\n",
       "    <tr>\n",
       "      <th>5</th>\n",
       "      <td>1</td>\n",
       "      <td>1.0</td>\n",
       "      <td>0</td>\n",
       "      <td>, toronto m4b2z5 ON, Canada</td>\n",
       "      <td>43.705190</td>\n",
       "      <td>-79.323847</td>\n",
       "      <td>700</td>\n",
       "      <td>M4B</td>\n",
       "      <td>East York</td>\n",
       "    </tr>\n",
       "    <tr>\n",
       "      <th>6</th>\n",
       "      <td>1</td>\n",
       "      <td>1.0</td>\n",
       "      <td>0</td>\n",
       "      <td>, M5A 2V3, Toronto, ON</td>\n",
       "      <td>43.654228</td>\n",
       "      <td>-79.367015</td>\n",
       "      <td>700</td>\n",
       "      <td>M5A</td>\n",
       "      <td>Downtown Toronto</td>\n",
       "    </tr>\n",
       "    <tr>\n",
       "      <th>7</th>\n",
       "      <td>1</td>\n",
       "      <td>1.0</td>\n",
       "      <td>0</td>\n",
       "      <td>, Toronto M5G 1B1 ON</td>\n",
       "      <td>43.654723</td>\n",
       "      <td>-79.381400</td>\n",
       "      <td>700</td>\n",
       "      <td>M5G</td>\n",
       "      <td>Downtown Toronto</td>\n",
       "    </tr>\n",
       "  </tbody>\n",
       "</table>\n",
       "</div>"
      ],
      "text/plain": [
       "   Bedroom  Bathroom  Den                                      Address  \\\n",
       "3        1       1.0    0  89 Chestnut St, Toronto, ON M5G 1R1, Canada   \n",
       "4        1       1.0    0                  , Toronto m5s1x6 ON, Canada   \n",
       "5        1       1.0    0                  , toronto m4b2z5 ON, Canada   \n",
       "6        1       1.0    0                       , M5A 2V3, Toronto, ON   \n",
       "7        1       1.0    0                         , Toronto M5G 1B1 ON   \n",
       "\n",
       "         Lat       Long  Price  ZIP           Borough  \n",
       "3  43.654155 -79.385211    550  M5G  Downtown Toronto  \n",
       "4  43.665956 -79.404799    650  M5S  Downtown Toronto  \n",
       "5  43.705190 -79.323847    700  M4B         East York  \n",
       "6  43.654228 -79.367015    700  M5A  Downtown Toronto  \n",
       "7  43.654723 -79.381400    700  M5G  Downtown Toronto  "
      ]
     },
     "execution_count": 14,
     "metadata": {},
     "output_type": "execute_result"
    }
   ],
   "source": [
    "### Geting the Borough name for the postal code\n",
    "def get_borough(postal):\n",
    "    try:\n",
    "        pos= (df_postal.loc[df_postal['Postcode'] == postal])['Borough'].item()\n",
    "    except:\n",
    "        pos = \"NAN\"\n",
    "    return pos\n",
    "    \n",
    "### Add a new column \"POS\" (First 3 character of the postal code) to the data\n",
    "df_clean['Borough'] = df_clean.apply(lambda row: get_borough(row['ZIP']), axis=1)\n",
    "df_clean.head()"
   ]
  },
  {
   "cell_type": "code",
   "execution_count": 15,
   "metadata": {},
   "outputs": [
    {
     "data": {
      "text/html": [
       "<div>\n",
       "<style scoped>\n",
       "    .dataframe tbody tr th:only-of-type {\n",
       "        vertical-align: middle;\n",
       "    }\n",
       "\n",
       "    .dataframe tbody tr th {\n",
       "        vertical-align: top;\n",
       "    }\n",
       "\n",
       "    .dataframe thead th {\n",
       "        text-align: right;\n",
       "    }\n",
       "</style>\n",
       "<table border=\"1\" class=\"dataframe\">\n",
       "  <thead>\n",
       "    <tr style=\"text-align: right;\">\n",
       "      <th></th>\n",
       "      <th>Bedroom</th>\n",
       "      <th>Bathroom</th>\n",
       "      <th>Den</th>\n",
       "      <th>Address</th>\n",
       "      <th>Lat</th>\n",
       "      <th>Long</th>\n",
       "      <th>Price</th>\n",
       "      <th>ZIP</th>\n",
       "      <th>Borough</th>\n",
       "    </tr>\n",
       "  </thead>\n",
       "  <tbody>\n",
       "    <tr>\n",
       "      <th>3</th>\n",
       "      <td>1</td>\n",
       "      <td>1.0</td>\n",
       "      <td>0</td>\n",
       "      <td>89 Chestnut St, Toronto, ON M5G 1R1, Canada</td>\n",
       "      <td>43.654155</td>\n",
       "      <td>-79.385211</td>\n",
       "      <td>550</td>\n",
       "      <td>M5G</td>\n",
       "      <td>Downtown Toronto</td>\n",
       "    </tr>\n",
       "    <tr>\n",
       "      <th>4</th>\n",
       "      <td>1</td>\n",
       "      <td>1.0</td>\n",
       "      <td>0</td>\n",
       "      <td>, Toronto m5s1x6 ON, Canada</td>\n",
       "      <td>43.665956</td>\n",
       "      <td>-79.404799</td>\n",
       "      <td>650</td>\n",
       "      <td>M5S</td>\n",
       "      <td>Downtown Toronto</td>\n",
       "    </tr>\n",
       "    <tr>\n",
       "      <th>5</th>\n",
       "      <td>1</td>\n",
       "      <td>1.0</td>\n",
       "      <td>0</td>\n",
       "      <td>, toronto m4b2z5 ON, Canada</td>\n",
       "      <td>43.705190</td>\n",
       "      <td>-79.323847</td>\n",
       "      <td>700</td>\n",
       "      <td>M4B</td>\n",
       "      <td>East York</td>\n",
       "    </tr>\n",
       "    <tr>\n",
       "      <th>6</th>\n",
       "      <td>1</td>\n",
       "      <td>1.0</td>\n",
       "      <td>0</td>\n",
       "      <td>, M5A 2V3, Toronto, ON</td>\n",
       "      <td>43.654228</td>\n",
       "      <td>-79.367015</td>\n",
       "      <td>700</td>\n",
       "      <td>M5A</td>\n",
       "      <td>Downtown Toronto</td>\n",
       "    </tr>\n",
       "    <tr>\n",
       "      <th>7</th>\n",
       "      <td>1</td>\n",
       "      <td>1.0</td>\n",
       "      <td>0</td>\n",
       "      <td>, Toronto M5G 1B1 ON</td>\n",
       "      <td>43.654723</td>\n",
       "      <td>-79.381400</td>\n",
       "      <td>700</td>\n",
       "      <td>M5G</td>\n",
       "      <td>Downtown Toronto</td>\n",
       "    </tr>\n",
       "  </tbody>\n",
       "</table>\n",
       "</div>"
      ],
      "text/plain": [
       "   Bedroom  Bathroom  Den                                      Address  \\\n",
       "3        1       1.0    0  89 Chestnut St, Toronto, ON M5G 1R1, Canada   \n",
       "4        1       1.0    0                  , Toronto m5s1x6 ON, Canada   \n",
       "5        1       1.0    0                  , toronto m4b2z5 ON, Canada   \n",
       "6        1       1.0    0                       , M5A 2V3, Toronto, ON   \n",
       "7        1       1.0    0                         , Toronto M5G 1B1 ON   \n",
       "\n",
       "         Lat       Long  Price  ZIP           Borough  \n",
       "3  43.654155 -79.385211    550  M5G  Downtown Toronto  \n",
       "4  43.665956 -79.404799    650  M5S  Downtown Toronto  \n",
       "5  43.705190 -79.323847    700  M4B         East York  \n",
       "6  43.654228 -79.367015    700  M5A  Downtown Toronto  \n",
       "7  43.654723 -79.381400    700  M5G  Downtown Toronto  "
      ]
     },
     "execution_count": 15,
     "metadata": {},
     "output_type": "execute_result"
    }
   ],
   "source": [
    "### Analyse for only Single bedroom rental properties\n",
    "df_single = df_clean.loc[df_clean[\"Bedroom\"]==1]\n",
    "df_single.head()"
   ]
  },
  {
   "cell_type": "code",
   "execution_count": 16,
   "metadata": {},
   "outputs": [
    {
     "data": {
      "text/html": [
       "<div>\n",
       "<style scoped>\n",
       "    .dataframe tbody tr th:only-of-type {\n",
       "        vertical-align: middle;\n",
       "    }\n",
       "\n",
       "    .dataframe tbody tr th {\n",
       "        vertical-align: top;\n",
       "    }\n",
       "\n",
       "    .dataframe thead th {\n",
       "        text-align: right;\n",
       "    }\n",
       "</style>\n",
       "<table border=\"1\" class=\"dataframe\">\n",
       "  <thead>\n",
       "    <tr style=\"text-align: right;\">\n",
       "      <th></th>\n",
       "      <th>Bedroom</th>\n",
       "      <th>Bathroom</th>\n",
       "      <th>Den</th>\n",
       "      <th>Lat</th>\n",
       "      <th>Long</th>\n",
       "      <th>Price</th>\n",
       "    </tr>\n",
       "  </thead>\n",
       "  <tbody>\n",
       "    <tr>\n",
       "      <th>count</th>\n",
       "      <td>529.0</td>\n",
       "      <td>529.000000</td>\n",
       "      <td>529.000000</td>\n",
       "      <td>529.000000</td>\n",
       "      <td>529.000000</td>\n",
       "      <td>529.000000</td>\n",
       "    </tr>\n",
       "    <tr>\n",
       "      <th>mean</th>\n",
       "      <td>1.0</td>\n",
       "      <td>1.044423</td>\n",
       "      <td>0.223062</td>\n",
       "      <td>43.663757</td>\n",
       "      <td>-79.404812</td>\n",
       "      <td>1993.402647</td>\n",
       "    </tr>\n",
       "    <tr>\n",
       "      <th>std</th>\n",
       "      <td>0.0</td>\n",
       "      <td>0.193189</td>\n",
       "      <td>0.416694</td>\n",
       "      <td>0.089157</td>\n",
       "      <td>0.174764</td>\n",
       "      <td>542.415611</td>\n",
       "    </tr>\n",
       "    <tr>\n",
       "      <th>min</th>\n",
       "      <td>1.0</td>\n",
       "      <td>1.000000</td>\n",
       "      <td>0.000000</td>\n",
       "      <td>42.985767</td>\n",
       "      <td>-81.243808</td>\n",
       "      <td>550.000000</td>\n",
       "    </tr>\n",
       "    <tr>\n",
       "      <th>25%</th>\n",
       "      <td>1.0</td>\n",
       "      <td>1.000000</td>\n",
       "      <td>0.000000</td>\n",
       "      <td>43.641873</td>\n",
       "      <td>-79.400995</td>\n",
       "      <td>1700.000000</td>\n",
       "    </tr>\n",
       "    <tr>\n",
       "      <th>50%</th>\n",
       "      <td>1.0</td>\n",
       "      <td>1.000000</td>\n",
       "      <td>0.000000</td>\n",
       "      <td>43.651593</td>\n",
       "      <td>-79.387295</td>\n",
       "      <td>2000.000000</td>\n",
       "    </tr>\n",
       "    <tr>\n",
       "      <th>75%</th>\n",
       "      <td>1.0</td>\n",
       "      <td>1.000000</td>\n",
       "      <td>0.000000</td>\n",
       "      <td>43.665588</td>\n",
       "      <td>-79.377265</td>\n",
       "      <td>2300.000000</td>\n",
       "    </tr>\n",
       "    <tr>\n",
       "      <th>max</th>\n",
       "      <td>1.0</td>\n",
       "      <td>2.000000</td>\n",
       "      <td>1.000000</td>\n",
       "      <td>44.121069</td>\n",
       "      <td>-77.888152</td>\n",
       "      <td>4700.000000</td>\n",
       "    </tr>\n",
       "  </tbody>\n",
       "</table>\n",
       "</div>"
      ],
      "text/plain": [
       "       Bedroom    Bathroom         Den         Lat        Long        Price\n",
       "count    529.0  529.000000  529.000000  529.000000  529.000000   529.000000\n",
       "mean       1.0    1.044423    0.223062   43.663757  -79.404812  1993.402647\n",
       "std        0.0    0.193189    0.416694    0.089157    0.174764   542.415611\n",
       "min        1.0    1.000000    0.000000   42.985767  -81.243808   550.000000\n",
       "25%        1.0    1.000000    0.000000   43.641873  -79.400995  1700.000000\n",
       "50%        1.0    1.000000    0.000000   43.651593  -79.387295  2000.000000\n",
       "75%        1.0    1.000000    0.000000   43.665588  -79.377265  2300.000000\n",
       "max        1.0    2.000000    1.000000   44.121069  -77.888152  4700.000000"
      ]
     },
     "execution_count": 16,
     "metadata": {},
     "output_type": "execute_result"
    }
   ],
   "source": [
    "### Population of single bedroom unit\n",
    "df_single.describe()"
   ]
  },
  {
   "cell_type": "code",
   "execution_count": 17,
   "metadata": {},
   "outputs": [
    {
     "name": "stdout",
     "output_type": "stream",
     "text": [
      "Population mean = 1993\n",
      "Population sd = 542\n"
     ]
    }
   ],
   "source": [
    "### As per the aboove details\n",
    "population_mean = int(round(df_single[\"Price\"].mean()))\n",
    "population_std = int(round(df_single[\"Price\"].std()))\n",
    "print(\"Population mean = \" + str(population_mean))\n",
    "print(\"Population sd = \" + str( population_std))"
   ]
  },
  {
   "cell_type": "code",
   "execution_count": 18,
   "metadata": {},
   "outputs": [
    {
     "data": {
      "text/plain": [
       "array(['M5A', 'M5B', 'M5C', 'M5E', 'M5G', 'M6G', 'M5H', 'M5J', 'M5K',\n",
       "       'M5L', 'M5S', 'M5T', 'M5V', 'M4W', 'M5W', 'M4X', 'M5X', 'M4Y'],\n",
       "      dtype=object)"
      ]
     },
     "execution_count": 18,
     "metadata": {},
     "output_type": "execute_result"
    }
   ],
   "source": [
    "(df_postal.loc[df_postal['Borough'] == 'Downtown Toronto'])[\"Postcode\"].unique()"
   ]
  },
  {
   "cell_type": "code",
   "execution_count": 19,
   "metadata": {},
   "outputs": [],
   "source": [
    "### Get the sample for 'Downtown Toronto' area\n",
    "df_single_downtown = df_single.loc[df_single[\"Borough\"]=='Downtown Toronto']"
   ]
  },
  {
   "cell_type": "code",
   "execution_count": 20,
   "metadata": {},
   "outputs": [
    {
     "data": {
      "text/html": [
       "<div>\n",
       "<style scoped>\n",
       "    .dataframe tbody tr th:only-of-type {\n",
       "        vertical-align: middle;\n",
       "    }\n",
       "\n",
       "    .dataframe tbody tr th {\n",
       "        vertical-align: top;\n",
       "    }\n",
       "\n",
       "    .dataframe thead th {\n",
       "        text-align: right;\n",
       "    }\n",
       "</style>\n",
       "<table border=\"1\" class=\"dataframe\">\n",
       "  <thead>\n",
       "    <tr style=\"text-align: right;\">\n",
       "      <th></th>\n",
       "      <th>Bedroom</th>\n",
       "      <th>Bathroom</th>\n",
       "      <th>Den</th>\n",
       "      <th>Lat</th>\n",
       "      <th>Long</th>\n",
       "      <th>Price</th>\n",
       "    </tr>\n",
       "  </thead>\n",
       "  <tbody>\n",
       "    <tr>\n",
       "      <th>count</th>\n",
       "      <td>40.0</td>\n",
       "      <td>40.000000</td>\n",
       "      <td>40.000000</td>\n",
       "      <td>40.000000</td>\n",
       "      <td>40.000000</td>\n",
       "      <td>40.00000</td>\n",
       "    </tr>\n",
       "    <tr>\n",
       "      <th>mean</th>\n",
       "      <td>1.0</td>\n",
       "      <td>1.050000</td>\n",
       "      <td>0.300000</td>\n",
       "      <td>43.651456</td>\n",
       "      <td>-79.384429</td>\n",
       "      <td>2213.47500</td>\n",
       "    </tr>\n",
       "    <tr>\n",
       "      <th>std</th>\n",
       "      <td>0.0</td>\n",
       "      <td>0.220721</td>\n",
       "      <td>0.464095</td>\n",
       "      <td>0.010085</td>\n",
       "      <td>0.011341</td>\n",
       "      <td>442.60702</td>\n",
       "    </tr>\n",
       "    <tr>\n",
       "      <th>min</th>\n",
       "      <td>1.0</td>\n",
       "      <td>1.000000</td>\n",
       "      <td>0.000000</td>\n",
       "      <td>43.637524</td>\n",
       "      <td>-79.409942</td>\n",
       "      <td>1300.00000</td>\n",
       "    </tr>\n",
       "    <tr>\n",
       "      <th>25%</th>\n",
       "      <td>1.0</td>\n",
       "      <td>1.000000</td>\n",
       "      <td>0.000000</td>\n",
       "      <td>43.643914</td>\n",
       "      <td>-79.391039</td>\n",
       "      <td>1878.75000</td>\n",
       "    </tr>\n",
       "    <tr>\n",
       "      <th>50%</th>\n",
       "      <td>1.0</td>\n",
       "      <td>1.000000</td>\n",
       "      <td>0.000000</td>\n",
       "      <td>43.648364</td>\n",
       "      <td>-79.382458</td>\n",
       "      <td>2237.50000</td>\n",
       "    </tr>\n",
       "    <tr>\n",
       "      <th>75%</th>\n",
       "      <td>1.0</td>\n",
       "      <td>1.000000</td>\n",
       "      <td>1.000000</td>\n",
       "      <td>43.660123</td>\n",
       "      <td>-79.376978</td>\n",
       "      <td>2500.00000</td>\n",
       "    </tr>\n",
       "    <tr>\n",
       "      <th>max</th>\n",
       "      <td>1.0</td>\n",
       "      <td>2.000000</td>\n",
       "      <td>1.000000</td>\n",
       "      <td>43.671082</td>\n",
       "      <td>-79.358877</td>\n",
       "      <td>3300.00000</td>\n",
       "    </tr>\n",
       "  </tbody>\n",
       "</table>\n",
       "</div>"
      ],
      "text/plain": [
       "       Bedroom   Bathroom        Den        Lat       Long       Price\n",
       "count     40.0  40.000000  40.000000  40.000000  40.000000    40.00000\n",
       "mean       1.0   1.050000   0.300000  43.651456 -79.384429  2213.47500\n",
       "std        0.0   0.220721   0.464095   0.010085   0.011341   442.60702\n",
       "min        1.0   1.000000   0.000000  43.637524 -79.409942  1300.00000\n",
       "25%        1.0   1.000000   0.000000  43.643914 -79.391039  1878.75000\n",
       "50%        1.0   1.000000   0.000000  43.648364 -79.382458  2237.50000\n",
       "75%        1.0   1.000000   1.000000  43.660123 -79.376978  2500.00000\n",
       "max        1.0   2.000000   1.000000  43.671082 -79.358877  3300.00000"
      ]
     },
     "execution_count": 20,
     "metadata": {},
     "output_type": "execute_result"
    }
   ],
   "source": [
    "### No. of sample should be greater than 30 and less than 10% of the population\n",
    "df_single_downtown_sam = df_single_downtown.sample(n=40, random_state=5)\n",
    "df_single_downtown_sam.describe()"
   ]
  },
  {
   "cell_type": "code",
   "execution_count": 21,
   "metadata": {},
   "outputs": [
    {
     "name": "stdout",
     "output_type": "stream",
     "text": [
      "Sample mean = 2213\n",
      "Sample count = 40\n"
     ]
    }
   ],
   "source": [
    "### As per the above sample, \n",
    "sample_mean = int(round(df_single_downtown_sam[\"Price\"].mean()))\n",
    "sample_no = int(round(df_single_downtown_sam[\"Price\"].count()))\n",
    "\n",
    "print(\"Sample mean = \" + str(sample_mean))\n",
    "print(\"Sample count = \" + str(sample_no))\n"
   ]
  },
  {
   "cell_type": "code",
   "execution_count": 22,
   "metadata": {},
   "outputs": [
    {
     "name": "stdout",
     "output_type": "stream",
     "text": [
      "z-scaore = 2.5671626761514523\n",
      "p-value = 0.9948732751480361\n"
     ]
    }
   ],
   "source": [
    "Z_score = (sample_mean - population_mean)/(population_std/math.sqrt(sample_no))\n",
    "p = st.norm.cdf(Z_score)\n",
    "print(\"z-scaore = \" + str(Z_score))\n",
    "print(\"p-value = \" + str(p))"
   ]
  },
  {
   "cell_type": "markdown",
   "metadata": {},
   "source": [
    "#### The Probablity to be more than higher rental value in Downtown Toronto, is 0.995\n",
    "#### As a result we can reject the Null Hypothesis"
   ]
  },
  {
   "cell_type": "code",
   "execution_count": 67,
   "metadata": {},
   "outputs": [
    {
     "data": {
      "text/html": [
       "<div>\n",
       "<style scoped>\n",
       "    .dataframe tbody tr th:only-of-type {\n",
       "        vertical-align: middle;\n",
       "    }\n",
       "\n",
       "    .dataframe tbody tr th {\n",
       "        vertical-align: top;\n",
       "    }\n",
       "\n",
       "    .dataframe thead th {\n",
       "        text-align: right;\n",
       "    }\n",
       "</style>\n",
       "<table border=\"1\" class=\"dataframe\">\n",
       "  <thead>\n",
       "    <tr style=\"text-align: right;\">\n",
       "      <th></th>\n",
       "      <th>Rental Price</th>\n",
       "    </tr>\n",
       "  </thead>\n",
       "  <tbody>\n",
       "    <tr>\n",
       "      <th>0</th>\n",
       "      <td>1856.475</td>\n",
       "    </tr>\n",
       "    <tr>\n",
       "      <th>1</th>\n",
       "      <td>1925.750</td>\n",
       "    </tr>\n",
       "    <tr>\n",
       "      <th>2</th>\n",
       "      <td>2037.025</td>\n",
       "    </tr>\n",
       "    <tr>\n",
       "      <th>3</th>\n",
       "      <td>1804.750</td>\n",
       "    </tr>\n",
       "    <tr>\n",
       "      <th>4</th>\n",
       "      <td>1934.200</td>\n",
       "    </tr>\n",
       "  </tbody>\n",
       "</table>\n",
       "</div>"
      ],
      "text/plain": [
       "   Rental Price\n",
       "0      1856.475\n",
       "1      1925.750\n",
       "2      2037.025\n",
       "3      1804.750\n",
       "4      1934.200"
      ]
     },
     "execution_count": 67,
     "metadata": {},
     "output_type": "execute_result"
    }
   ],
   "source": [
    "# let shuffle the dataframe 10000 times\n",
    "NUM_OF_SIMULATIONS = 1000\n",
    "simulation = []\n",
    "\n",
    "for x in range(0, NUM_OF_SIMULATIONS):\n",
    "    # take the first number of water samples as the water data set\n",
    "    sim_all_df = df_single.sample(n=40)\n",
    "    # the rest of the samples we take as beer\n",
    "    #sim_down_df = df_single_downtown.sample(n=40)\n",
    "    # calculate the mean difference and store it in an array\n",
    "    #simulation.append(sim_down_df.mean()['Price'] - sim_all_df.mean()['Price'])\n",
    "    simulation.append(sim_all_df.mean()['Price'])\n",
    "\n",
    "# construct a data frame base on the simulated data\n",
    "simulation_df = pd.DataFrame(simulation, columns=['Rental Price']) \n",
    "simulation_df.head()"
   ]
  },
  {
   "cell_type": "code",
   "execution_count": 68,
   "metadata": {},
   "outputs": [
    {
     "data": {
      "text/plain": [
       "Text(2213,60,'Downtown Rental Price')"
      ]
     },
     "execution_count": 68,
     "metadata": {},
     "output_type": "execute_result"
    },
    {
     "data": {
      "text/plain": [
       "<Figure size 432x288 with 0 Axes>"
      ]
     },
     "metadata": {},
     "output_type": "display_data"
    },
    {
     "data": {
      "image/png": "[encoded data removed]",
      "text/plain": [
       "<Figure size 1008x432 with 1 Axes>"
      ]
     },
     "metadata": {},
     "output_type": "display_data"
    }
   ],
   "source": [
    "plt.figure()\n",
    "experiment_mean_diff =sample_mean\n",
    "simulation_df.plot.hist(stacked=True, bins=20, figsize=(14,6)).set_title(\"Distribution of random sample average rental price in Toronto Area. (10,000 simulations)\")\n",
    "plt.axvline(experiment_mean_diff, linewidth=2, color='#d62728', linestyle='dashed')\n",
    "#plt.text(experiment_mean_diff+.1,800, 'Downtown Rental Price')\n",
    "plt.text(experiment_mean_diff,60, 'Downtown Rental Price')"
   ]
  },
  {
   "cell_type": "markdown",
   "metadata": {},
   "source": [
    "### 2) Build a predictive model using one of the techniques covered in the course i.e. ordinary least squares regression or Naïve Bayes\n",
    "\n",
    "#### Building a model for the rental price in Downtown Toronto area"
   ]
  },
  {
   "cell_type": "markdown",
   "metadata": {},
   "source": [
    "### Approach - 1 (Multi Linear Regression)"
   ]
  },
  {
   "cell_type": "code",
   "execution_count": 76,
   "metadata": {},
   "outputs": [
    {
     "data": {
      "text/html": [
       "<div>\n",
       "<style scoped>\n",
       "    .dataframe tbody tr th:only-of-type {\n",
       "        vertical-align: middle;\n",
       "    }\n",
       "\n",
       "    .dataframe tbody tr th {\n",
       "        vertical-align: top;\n",
       "    }\n",
       "\n",
       "    .dataframe thead th {\n",
       "        text-align: right;\n",
       "    }\n",
       "</style>\n",
       "<table border=\"1\" class=\"dataframe\">\n",
       "  <thead>\n",
       "    <tr style=\"text-align: right;\">\n",
       "      <th></th>\n",
       "      <th>Bedroom</th>\n",
       "      <th>Bathroom</th>\n",
       "      <th>Den</th>\n",
       "      <th>Lat</th>\n",
       "      <th>Long</th>\n",
       "      <th>Price</th>\n",
       "    </tr>\n",
       "  </thead>\n",
       "  <tbody>\n",
       "    <tr>\n",
       "      <th>count</th>\n",
       "      <td>479.000000</td>\n",
       "      <td>479.000000</td>\n",
       "      <td>479.000000</td>\n",
       "      <td>479.000000</td>\n",
       "      <td>479.000000</td>\n",
       "      <td>479.000000</td>\n",
       "    </tr>\n",
       "    <tr>\n",
       "      <th>mean</th>\n",
       "      <td>1.290188</td>\n",
       "      <td>1.234864</td>\n",
       "      <td>0.150313</td>\n",
       "      <td>43.651561</td>\n",
       "      <td>-79.384082</td>\n",
       "      <td>2397.805846</td>\n",
       "    </tr>\n",
       "    <tr>\n",
       "      <th>std</th>\n",
       "      <td>0.514769</td>\n",
       "      <td>0.439493</td>\n",
       "      <td>0.357752</td>\n",
       "      <td>0.009624</td>\n",
       "      <td>0.011053</td>\n",
       "      <td>851.873344</td>\n",
       "    </tr>\n",
       "    <tr>\n",
       "      <th>min</th>\n",
       "      <td>1.000000</td>\n",
       "      <td>1.000000</td>\n",
       "      <td>0.000000</td>\n",
       "      <td>43.634476</td>\n",
       "      <td>-79.428726</td>\n",
       "      <td>550.000000</td>\n",
       "    </tr>\n",
       "    <tr>\n",
       "      <th>25%</th>\n",
       "      <td>1.000000</td>\n",
       "      <td>1.000000</td>\n",
       "      <td>0.000000</td>\n",
       "      <td>43.643105</td>\n",
       "      <td>-79.391869</td>\n",
       "      <td>1950.000000</td>\n",
       "    </tr>\n",
       "    <tr>\n",
       "      <th>50%</th>\n",
       "      <td>1.000000</td>\n",
       "      <td>1.000000</td>\n",
       "      <td>0.000000</td>\n",
       "      <td>43.648973</td>\n",
       "      <td>-79.383028</td>\n",
       "      <td>2300.000000</td>\n",
       "    </tr>\n",
       "    <tr>\n",
       "      <th>75%</th>\n",
       "      <td>2.000000</td>\n",
       "      <td>1.000000</td>\n",
       "      <td>0.000000</td>\n",
       "      <td>43.659421</td>\n",
       "      <td>-79.378028</td>\n",
       "      <td>2700.000000</td>\n",
       "    </tr>\n",
       "    <tr>\n",
       "      <th>max</th>\n",
       "      <td>3.000000</td>\n",
       "      <td>3.000000</td>\n",
       "      <td>1.000000</td>\n",
       "      <td>43.679043</td>\n",
       "      <td>-79.353912</td>\n",
       "      <td>9750.000000</td>\n",
       "    </tr>\n",
       "  </tbody>\n",
       "</table>\n",
       "</div>"
      ],
      "text/plain": [
       "          Bedroom    Bathroom         Den         Lat        Long        Price\n",
       "count  479.000000  479.000000  479.000000  479.000000  479.000000   479.000000\n",
       "mean     1.290188    1.234864    0.150313   43.651561  -79.384082  2397.805846\n",
       "std      0.514769    0.439493    0.357752    0.009624    0.011053   851.873344\n",
       "min      1.000000    1.000000    0.000000   43.634476  -79.428726   550.000000\n",
       "25%      1.000000    1.000000    0.000000   43.643105  -79.391869  1950.000000\n",
       "50%      1.000000    1.000000    0.000000   43.648973  -79.383028  2300.000000\n",
       "75%      2.000000    1.000000    0.000000   43.659421  -79.378028  2700.000000\n",
       "max      3.000000    3.000000    1.000000   43.679043  -79.353912  9750.000000"
      ]
     },
     "execution_count": 76,
     "metadata": {},
     "output_type": "execute_result"
    }
   ],
   "source": [
    "df_downtown=df_clean.loc[df_clean[\"Borough\"]=='Downtown Toronto']\n",
    "df_downtown.describe()"
   ]
  },
  {
   "cell_type": "code",
   "execution_count": 77,
   "metadata": {},
   "outputs": [
    {
     "data": {
      "text/html": [
       "<div>\n",
       "<style scoped>\n",
       "    .dataframe tbody tr th:only-of-type {\n",
       "        vertical-align: middle;\n",
       "    }\n",
       "\n",
       "    .dataframe tbody tr th {\n",
       "        vertical-align: top;\n",
       "    }\n",
       "\n",
       "    .dataframe thead th {\n",
       "        text-align: right;\n",
       "    }\n",
       "</style>\n",
       "<table border=\"1\" class=\"dataframe\">\n",
       "  <thead>\n",
       "    <tr style=\"text-align: right;\">\n",
       "      <th></th>\n",
       "      <th>Bedroom</th>\n",
       "      <th>Bathroom</th>\n",
       "      <th>Den</th>\n",
       "      <th>Address</th>\n",
       "      <th>Lat</th>\n",
       "      <th>Long</th>\n",
       "      <th>Price</th>\n",
       "      <th>ZIP</th>\n",
       "      <th>Borough</th>\n",
       "    </tr>\n",
       "  </thead>\n",
       "  <tbody>\n",
       "    <tr>\n",
       "      <th>3</th>\n",
       "      <td>1</td>\n",
       "      <td>1.0</td>\n",
       "      <td>0</td>\n",
       "      <td>89 Chestnut St, Toronto, ON M5G 1R1, Canada</td>\n",
       "      <td>43.654155</td>\n",
       "      <td>-79.385211</td>\n",
       "      <td>550</td>\n",
       "      <td>M5G</td>\n",
       "      <td>Downtown Toronto</td>\n",
       "    </tr>\n",
       "    <tr>\n",
       "      <th>4</th>\n",
       "      <td>1</td>\n",
       "      <td>1.0</td>\n",
       "      <td>0</td>\n",
       "      <td>, Toronto m5s1x6 ON, Canada</td>\n",
       "      <td>43.665956</td>\n",
       "      <td>-79.404799</td>\n",
       "      <td>650</td>\n",
       "      <td>M5S</td>\n",
       "      <td>Downtown Toronto</td>\n",
       "    </tr>\n",
       "    <tr>\n",
       "      <th>6</th>\n",
       "      <td>1</td>\n",
       "      <td>1.0</td>\n",
       "      <td>0</td>\n",
       "      <td>, M5A 2V3, Toronto, ON</td>\n",
       "      <td>43.654228</td>\n",
       "      <td>-79.367015</td>\n",
       "      <td>700</td>\n",
       "      <td>M5A</td>\n",
       "      <td>Downtown Toronto</td>\n",
       "    </tr>\n",
       "    <tr>\n",
       "      <th>7</th>\n",
       "      <td>1</td>\n",
       "      <td>1.0</td>\n",
       "      <td>0</td>\n",
       "      <td>, Toronto M5G 1B1 ON</td>\n",
       "      <td>43.654723</td>\n",
       "      <td>-79.381400</td>\n",
       "      <td>700</td>\n",
       "      <td>M5G</td>\n",
       "      <td>Downtown Toronto</td>\n",
       "    </tr>\n",
       "    <tr>\n",
       "      <th>8</th>\n",
       "      <td>1</td>\n",
       "      <td>1.0</td>\n",
       "      <td>0</td>\n",
       "      <td>Bay st and college st, Toronto M5G 2C8 ON, Canada</td>\n",
       "      <td>43.660835</td>\n",
       "      <td>-79.385856</td>\n",
       "      <td>750</td>\n",
       "      <td>M5G</td>\n",
       "      <td>Downtown Toronto</td>\n",
       "    </tr>\n",
       "  </tbody>\n",
       "</table>\n",
       "</div>"
      ],
      "text/plain": [
       "   Bedroom  Bathroom  Den                                            Address  \\\n",
       "3        1       1.0    0        89 Chestnut St, Toronto, ON M5G 1R1, Canada   \n",
       "4        1       1.0    0                        , Toronto m5s1x6 ON, Canada   \n",
       "6        1       1.0    0                             , M5A 2V3, Toronto, ON   \n",
       "7        1       1.0    0                               , Toronto M5G 1B1 ON   \n",
       "8        1       1.0    0  Bay st and college st, Toronto M5G 2C8 ON, Canada   \n",
       "\n",
       "         Lat       Long  Price  ZIP           Borough  \n",
       "3  43.654155 -79.385211    550  M5G  Downtown Toronto  \n",
       "4  43.665956 -79.404799    650  M5S  Downtown Toronto  \n",
       "6  43.654228 -79.367015    700  M5A  Downtown Toronto  \n",
       "7  43.654723 -79.381400    700  M5G  Downtown Toronto  \n",
       "8  43.660835 -79.385856    750  M5G  Downtown Toronto  "
      ]
     },
     "execution_count": 77,
     "metadata": {},
     "output_type": "execute_result"
    }
   ],
   "source": [
    "df_downtown.head()"
   ]
  },
  {
   "cell_type": "code",
   "execution_count": 78,
   "metadata": {},
   "outputs": [
    {
     "data": {
      "text/html": [
       "<div>\n",
       "<style scoped>\n",
       "    .dataframe tbody tr th:only-of-type {\n",
       "        vertical-align: middle;\n",
       "    }\n",
       "\n",
       "    .dataframe tbody tr th {\n",
       "        vertical-align: top;\n",
       "    }\n",
       "\n",
       "    .dataframe thead th {\n",
       "        text-align: right;\n",
       "    }\n",
       "</style>\n",
       "<table border=\"1\" class=\"dataframe\">\n",
       "  <thead>\n",
       "    <tr style=\"text-align: right;\">\n",
       "      <th></th>\n",
       "      <th>index</th>\n",
       "      <th>Bedroom</th>\n",
       "      <th>Bathroom</th>\n",
       "      <th>Den</th>\n",
       "      <th>Address</th>\n",
       "      <th>Lat</th>\n",
       "      <th>Long</th>\n",
       "      <th>Price</th>\n",
       "      <th>ZIP</th>\n",
       "      <th>Borough</th>\n",
       "    </tr>\n",
       "  </thead>\n",
       "  <tbody>\n",
       "    <tr>\n",
       "      <th>0</th>\n",
       "      <td>3</td>\n",
       "      <td>1</td>\n",
       "      <td>1.0</td>\n",
       "      <td>0</td>\n",
       "      <td>89 Chestnut St, Toronto, ON M5G 1R1, Canada</td>\n",
       "      <td>43.654155</td>\n",
       "      <td>-79.385211</td>\n",
       "      <td>550</td>\n",
       "      <td>M5G</td>\n",
       "      <td>Downtown Toronto</td>\n",
       "    </tr>\n",
       "    <tr>\n",
       "      <th>1</th>\n",
       "      <td>4</td>\n",
       "      <td>1</td>\n",
       "      <td>1.0</td>\n",
       "      <td>0</td>\n",
       "      <td>, Toronto m5s1x6 ON, Canada</td>\n",
       "      <td>43.665956</td>\n",
       "      <td>-79.404799</td>\n",
       "      <td>650</td>\n",
       "      <td>M5S</td>\n",
       "      <td>Downtown Toronto</td>\n",
       "    </tr>\n",
       "    <tr>\n",
       "      <th>2</th>\n",
       "      <td>6</td>\n",
       "      <td>1</td>\n",
       "      <td>1.0</td>\n",
       "      <td>0</td>\n",
       "      <td>, M5A 2V3, Toronto, ON</td>\n",
       "      <td>43.654228</td>\n",
       "      <td>-79.367015</td>\n",
       "      <td>700</td>\n",
       "      <td>M5A</td>\n",
       "      <td>Downtown Toronto</td>\n",
       "    </tr>\n",
       "    <tr>\n",
       "      <th>3</th>\n",
       "      <td>7</td>\n",
       "      <td>1</td>\n",
       "      <td>1.0</td>\n",
       "      <td>0</td>\n",
       "      <td>, Toronto M5G 1B1 ON</td>\n",
       "      <td>43.654723</td>\n",
       "      <td>-79.381400</td>\n",
       "      <td>700</td>\n",
       "      <td>M5G</td>\n",
       "      <td>Downtown Toronto</td>\n",
       "    </tr>\n",
       "    <tr>\n",
       "      <th>4</th>\n",
       "      <td>8</td>\n",
       "      <td>1</td>\n",
       "      <td>1.0</td>\n",
       "      <td>0</td>\n",
       "      <td>Bay st and college st, Toronto M5G 2C8 ON, Canada</td>\n",
       "      <td>43.660835</td>\n",
       "      <td>-79.385856</td>\n",
       "      <td>750</td>\n",
       "      <td>M5G</td>\n",
       "      <td>Downtown Toronto</td>\n",
       "    </tr>\n",
       "  </tbody>\n",
       "</table>\n",
       "</div>"
      ],
      "text/plain": [
       "   index  Bedroom  Bathroom  Den  \\\n",
       "0      3        1       1.0    0   \n",
       "1      4        1       1.0    0   \n",
       "2      6        1       1.0    0   \n",
       "3      7        1       1.0    0   \n",
       "4      8        1       1.0    0   \n",
       "\n",
       "                                             Address        Lat       Long  \\\n",
       "0        89 Chestnut St, Toronto, ON M5G 1R1, Canada  43.654155 -79.385211   \n",
       "1                        , Toronto m5s1x6 ON, Canada  43.665956 -79.404799   \n",
       "2                             , M5A 2V3, Toronto, ON  43.654228 -79.367015   \n",
       "3                               , Toronto M5G 1B1 ON  43.654723 -79.381400   \n",
       "4  Bay st and college st, Toronto M5G 2C8 ON, Canada  43.660835 -79.385856   \n",
       "\n",
       "   Price  ZIP           Borough  \n",
       "0    550  M5G  Downtown Toronto  \n",
       "1    650  M5S  Downtown Toronto  \n",
       "2    700  M5A  Downtown Toronto  \n",
       "3    700  M5G  Downtown Toronto  \n",
       "4    750  M5G  Downtown Toronto  "
      ]
     },
     "execution_count": 78,
     "metadata": {},
     "output_type": "execute_result"
    }
   ],
   "source": [
    "df_downtown.reset_index(inplace = True)\n",
    "df_downtown.head()"
   ]
  },
  {
   "cell_type": "code",
   "execution_count": 79,
   "metadata": {},
   "outputs": [
    {
     "name": "stdout",
     "output_type": "stream",
     "text": [
      "                            OLS Regression Results                            \n",
      "==============================================================================\n",
      "Dep. Variable:                  Price   R-squared:                       0.431\n",
      "Model:                            OLS   Adj. R-squared:                  0.425\n",
      "Method:                 Least Squares   F-statistic:                     71.55\n",
      "Date:                Thu, 04 Apr 2019   Prob (F-statistic):           1.11e-55\n",
      "Time:                        22:56:50   Log-Likelihood:                -3776.3\n",
      "No. Observations:                 479   AIC:                             7565.\n",
      "Df Residuals:                     473   BIC:                             7590.\n",
      "Df Model:                           5                                         \n",
      "Covariance Type:            nonrobust                                         \n",
      "==============================================================================\n",
      "                 coef    std err          t      P>|t|      [0.025      0.975]\n",
      "------------------------------------------------------------------------------\n",
      "Intercept   4.127e+05   3.04e+05      1.359      0.175   -1.84e+05    1.01e+06\n",
      "Bedroom      574.8290     88.658      6.484      0.000     400.617     749.041\n",
      "Bathroom     678.1895    102.296      6.630      0.000     477.178     879.201\n",
      "Den          280.3884     86.534      3.240      0.001     110.349     450.427\n",
      "Lat        -1.061e+04   3292.922     -3.223      0.001   -1.71e+04   -4143.101\n",
      "Long        -647.1304   2837.086     -0.228      0.820   -6221.982    4927.721\n",
      "==============================================================================\n",
      "Omnibus:                      330.388   Durbin-Watson:                   0.868\n",
      "Prob(Omnibus):                  0.000   Jarque-Bera (JB):             9296.601\n",
      "Skew:                           2.550   Prob(JB):                         0.00\n",
      "Kurtosis:                      23.971   Cond. No.                     9.32e+05\n",
      "==============================================================================\n",
      "\n",
      "Warnings:\n",
      "[1] Standard Errors assume that the covariance matrix of the errors is correctly specified.\n",
      "[2] The condition number is large, 9.32e+05. This might indicate that there are\n",
      "strong multicollinearity or other numerical problems.\n"
     ]
    }
   ],
   "source": [
    "model = ols(\"Price ~  Bedroom + Bathroom + Den + Lat + Long\", data=df_downtown).fit()\n",
    "print(model.summary())"
   ]
  },
  {
   "cell_type": "markdown",
   "metadata": {},
   "source": [
    "### As per the Warning-2, We have to change/transform the value\n",
    "#### So we introduce 2 new fields X and Y to represent the location coordinte.\n",
    " - For that take the Toronto City Hall's location as the refernce point X = -79.3832, Y = 43.6532"
   ]
  },
  {
   "cell_type": "code",
   "execution_count": 80,
   "metadata": {},
   "outputs": [
    {
     "name": "stderr",
     "output_type": "stream",
     "text": [
      "C:\\Users\\svallipuram\\AppData\\Local\\Continuum\\anaconda3\\lib\\site-packages\\ipykernel_launcher.py:1: SettingWithCopyWarning: \n",
      "A value is trying to be set on a copy of a slice from a DataFrame.\n",
      "Try using .loc[row_indexer,col_indexer] = value instead\n",
      "\n",
      "See the caveats in the documentation: http://pandas.pydata.org/pandas-docs/stable/indexing.html#indexing-view-versus-copy\n",
      "  \"\"\"Entry point for launching an IPython kernel.\n",
      "C:\\Users\\svallipuram\\AppData\\Local\\Continuum\\anaconda3\\lib\\site-packages\\ipykernel_launcher.py:2: SettingWithCopyWarning: \n",
      "A value is trying to be set on a copy of a slice from a DataFrame.\n",
      "Try using .loc[row_indexer,col_indexer] = value instead\n",
      "\n",
      "See the caveats in the documentation: http://pandas.pydata.org/pandas-docs/stable/indexing.html#indexing-view-versus-copy\n",
      "  \n"
     ]
    },
    {
     "data": {
      "text/html": [
       "<div>\n",
       "<style scoped>\n",
       "    .dataframe tbody tr th:only-of-type {\n",
       "        vertical-align: middle;\n",
       "    }\n",
       "\n",
       "    .dataframe tbody tr th {\n",
       "        vertical-align: top;\n",
       "    }\n",
       "\n",
       "    .dataframe thead th {\n",
       "        text-align: right;\n",
       "    }\n",
       "</style>\n",
       "<table border=\"1\" class=\"dataframe\">\n",
       "  <thead>\n",
       "    <tr style=\"text-align: right;\">\n",
       "      <th></th>\n",
       "      <th>index</th>\n",
       "      <th>Bedroom</th>\n",
       "      <th>Bathroom</th>\n",
       "      <th>Den</th>\n",
       "      <th>Lat</th>\n",
       "      <th>Long</th>\n",
       "      <th>Price</th>\n",
       "      <th>X</th>\n",
       "      <th>Y</th>\n",
       "    </tr>\n",
       "  </thead>\n",
       "  <tbody>\n",
       "    <tr>\n",
       "      <th>count</th>\n",
       "      <td>479.000000</td>\n",
       "      <td>479.000000</td>\n",
       "      <td>479.000000</td>\n",
       "      <td>479.000000</td>\n",
       "      <td>479.000000</td>\n",
       "      <td>479.000000</td>\n",
       "      <td>479.000000</td>\n",
       "      <td>479.000000</td>\n",
       "      <td>479.000000</td>\n",
       "    </tr>\n",
       "    <tr>\n",
       "      <th>mean</th>\n",
       "      <td>403.478079</td>\n",
       "      <td>1.290188</td>\n",
       "      <td>1.234864</td>\n",
       "      <td>0.150313</td>\n",
       "      <td>43.651561</td>\n",
       "      <td>-79.384082</td>\n",
       "      <td>2397.805846</td>\n",
       "      <td>-0.000882</td>\n",
       "      <td>-0.001639</td>\n",
       "    </tr>\n",
       "    <tr>\n",
       "      <th>std</th>\n",
       "      <td>210.401367</td>\n",
       "      <td>0.514769</td>\n",
       "      <td>0.439493</td>\n",
       "      <td>0.357752</td>\n",
       "      <td>0.009624</td>\n",
       "      <td>0.011053</td>\n",
       "      <td>851.873344</td>\n",
       "      <td>0.011053</td>\n",
       "      <td>0.009624</td>\n",
       "    </tr>\n",
       "    <tr>\n",
       "      <th>min</th>\n",
       "      <td>3.000000</td>\n",
       "      <td>1.000000</td>\n",
       "      <td>1.000000</td>\n",
       "      <td>0.000000</td>\n",
       "      <td>43.634476</td>\n",
       "      <td>-79.428726</td>\n",
       "      <td>550.000000</td>\n",
       "      <td>-0.045526</td>\n",
       "      <td>-0.018724</td>\n",
       "    </tr>\n",
       "    <tr>\n",
       "      <th>25%</th>\n",
       "      <td>247.000000</td>\n",
       "      <td>1.000000</td>\n",
       "      <td>1.000000</td>\n",
       "      <td>0.000000</td>\n",
       "      <td>43.643105</td>\n",
       "      <td>-79.391869</td>\n",
       "      <td>1950.000000</td>\n",
       "      <td>-0.008669</td>\n",
       "      <td>-0.010095</td>\n",
       "    </tr>\n",
       "    <tr>\n",
       "      <th>50%</th>\n",
       "      <td>394.000000</td>\n",
       "      <td>1.000000</td>\n",
       "      <td>1.000000</td>\n",
       "      <td>0.000000</td>\n",
       "      <td>43.648973</td>\n",
       "      <td>-79.383028</td>\n",
       "      <td>2300.000000</td>\n",
       "      <td>0.000172</td>\n",
       "      <td>-0.004227</td>\n",
       "    </tr>\n",
       "    <tr>\n",
       "      <th>75%</th>\n",
       "      <td>562.000000</td>\n",
       "      <td>2.000000</td>\n",
       "      <td>1.000000</td>\n",
       "      <td>0.000000</td>\n",
       "      <td>43.659421</td>\n",
       "      <td>-79.378028</td>\n",
       "      <td>2700.000000</td>\n",
       "      <td>0.005172</td>\n",
       "      <td>0.006221</td>\n",
       "    </tr>\n",
       "    <tr>\n",
       "      <th>max</th>\n",
       "      <td>783.000000</td>\n",
       "      <td>3.000000</td>\n",
       "      <td>3.000000</td>\n",
       "      <td>1.000000</td>\n",
       "      <td>43.679043</td>\n",
       "      <td>-79.353912</td>\n",
       "      <td>9750.000000</td>\n",
       "      <td>0.029288</td>\n",
       "      <td>0.025843</td>\n",
       "    </tr>\n",
       "  </tbody>\n",
       "</table>\n",
       "</div>"
      ],
      "text/plain": [
       "            index     Bedroom    Bathroom         Den         Lat        Long  \\\n",
       "count  479.000000  479.000000  479.000000  479.000000  479.000000  479.000000   \n",
       "mean   403.478079    1.290188    1.234864    0.150313   43.651561  -79.384082   \n",
       "std    210.401367    0.514769    0.439493    0.357752    0.009624    0.011053   \n",
       "min      3.000000    1.000000    1.000000    0.000000   43.634476  -79.428726   \n",
       "25%    247.000000    1.000000    1.000000    0.000000   43.643105  -79.391869   \n",
       "50%    394.000000    1.000000    1.000000    0.000000   43.648973  -79.383028   \n",
       "75%    562.000000    2.000000    1.000000    0.000000   43.659421  -79.378028   \n",
       "max    783.000000    3.000000    3.000000    1.000000   43.679043  -79.353912   \n",
       "\n",
       "             Price           X           Y  \n",
       "count   479.000000  479.000000  479.000000  \n",
       "mean   2397.805846   -0.000882   -0.001639  \n",
       "std     851.873344    0.011053    0.009624  \n",
       "min     550.000000   -0.045526   -0.018724  \n",
       "25%    1950.000000   -0.008669   -0.010095  \n",
       "50%    2300.000000    0.000172   -0.004227  \n",
       "75%    2700.000000    0.005172    0.006221  \n",
       "max    9750.000000    0.029288    0.025843  "
      ]
     },
     "execution_count": 80,
     "metadata": {},
     "output_type": "execute_result"
    }
   ],
   "source": [
    "df_downtown[\"X\"] = df_downtown[\"Long\"] - (-79.3832)\n",
    "df_downtown[\"Y\"] = df_downtown[\"Lat\"] - 43.6532\n",
    "df_downtown.describe()"
   ]
  },
  {
   "cell_type": "code",
   "execution_count": 81,
   "metadata": {},
   "outputs": [
    {
     "name": "stdout",
     "output_type": "stream",
     "text": [
      "                            OLS Regression Results                            \n",
      "==============================================================================\n",
      "Dep. Variable:                  Price   R-squared:                       0.431\n",
      "Model:                            OLS   Adj. R-squared:                  0.425\n",
      "Method:                 Least Squares   F-statistic:                     71.55\n",
      "Date:                Thu, 04 Apr 2019   Prob (F-statistic):           1.11e-55\n",
      "Time:                        22:56:56   Log-Likelihood:                -3776.3\n",
      "No. Observations:                 479   AIC:                             7565.\n",
      "Df Residuals:                     473   BIC:                             7590.\n",
      "Df Model:                           5                                         \n",
      "Covariance Type:            nonrobust                                         \n",
      "==============================================================================\n",
      "                 coef    std err          t      P>|t|      [0.025      0.975]\n",
      "------------------------------------------------------------------------------\n",
      "Intercept    758.5789     94.585      8.020      0.000     572.720     944.438\n",
      "Bedroom      574.8290     88.658      6.484      0.000     400.617     749.041\n",
      "Bathroom     678.1895    102.296      6.630      0.000     477.178     879.201\n",
      "Den          280.3884     86.534      3.240      0.001     110.349     450.427\n",
      "X           -647.1304   2837.086     -0.228      0.820   -6221.982    4927.721\n",
      "Y          -1.061e+04   3292.922     -3.223      0.001   -1.71e+04   -4143.101\n",
      "==============================================================================\n",
      "Omnibus:                      330.388   Durbin-Watson:                   0.868\n",
      "Prob(Omnibus):                  0.000   Jarque-Bera (JB):             9296.601\n",
      "Skew:                           2.550   Prob(JB):                         0.00\n",
      "Kurtosis:                      23.971   Cond. No.                         257.\n",
      "==============================================================================\n",
      "\n",
      "Warnings:\n",
      "[1] Standard Errors assume that the covariance matrix of the errors is correctly specified.\n"
     ]
    }
   ],
   "source": [
    "model = ols(\"Price ~  Bedroom + Bathroom + Den + X + Y\", data=df_downtown).fit()\n",
    "print(model.summary())"
   ]
  },
  {
   "cell_type": "markdown",
   "metadata": {},
   "source": [
    "#### The p-value for the variable 'X' is 0.820 > 0.05 (As it is was greater than the value, which is statistically accepted, we can remove this variable from the model)"
   ]
  },
  {
   "cell_type": "code",
   "execution_count": 82,
   "metadata": {},
   "outputs": [
    {
     "name": "stdout",
     "output_type": "stream",
     "text": [
      "                            OLS Regression Results                            \n",
      "==============================================================================\n",
      "Dep. Variable:                  Price   R-squared:                       0.431\n",
      "Model:                            OLS   Adj. R-squared:                  0.426\n",
      "Method:                 Least Squares   F-statistic:                     89.60\n",
      "Date:                Thu, 04 Apr 2019   Prob (F-statistic):           1.13e-56\n",
      "Time:                        22:56:56   Log-Likelihood:                -3776.3\n",
      "No. Observations:                 479   AIC:                             7563.\n",
      "Df Residuals:                     474   BIC:                             7584.\n",
      "Df Model:                           4                                         \n",
      "Covariance Type:            nonrobust                                         \n",
      "==============================================================================\n",
      "                 coef    std err          t      P>|t|      [0.025      0.975]\n",
      "------------------------------------------------------------------------------\n",
      "Intercept    760.0225     94.279      8.061      0.000     574.767     945.278\n",
      "Bedroom      576.6137     88.224      6.536      0.000     403.256     749.971\n",
      "Bathroom     675.4501    101.487      6.656      0.000     476.030     874.870\n",
      "Den          279.1380     86.274      3.235      0.001     109.611     448.665\n",
      "Y          -1.085e+04   3115.507     -3.484      0.001    -1.7e+04   -4732.879\n",
      "==============================================================================\n",
      "Omnibus:                      330.456   Durbin-Watson:                   0.868\n",
      "Prob(Omnibus):                  0.000   Jarque-Bera (JB):             9293.488\n",
      "Skew:                           2.551   Prob(JB):                         0.00\n",
      "Kurtosis:                      23.967   Cond. No.                         224.\n",
      "==============================================================================\n",
      "\n",
      "Warnings:\n",
      "[1] Standard Errors assume that the covariance matrix of the errors is correctly specified.\n"
     ]
    }
   ],
   "source": [
    "model = ols(\"Price ~  Bedroom + Bathroom + Den + Y\", data=df_downtown).fit()\n",
    "print(model.summary())"
   ]
  },
  {
   "cell_type": "markdown",
   "metadata": {},
   "source": [
    "### Evalauting the fit model"
   ]
  },
  {
   "cell_type": "code",
   "execution_count": 83,
   "metadata": {},
   "outputs": [
    {
     "data": {
      "text/plain": [
       "Text(0.5,1,'Predictions vs. Original Prices')"
      ]
     },
     "execution_count": 83,
     "metadata": {},
     "output_type": "execute_result"
    },
    {
     "data": {
      "image/png": "[encoded data removed]",
      "text/plain": [
       "<Figure size 432x288 with 1 Axes>"
      ]
     },
     "metadata": {},
     "output_type": "display_data"
    }
   ],
   "source": [
    "predicted_prices = model.fittedvalues\n",
    "\n",
    "plt.scatter(predicted_prices, df_downtown[\"Price\"])\n",
    "\n",
    "plt.xlabel(\"Predicted Prices by Model\")\n",
    "plt.ylabel(\"Rental Price\")\n",
    "plt.title(\"Predictions vs. Original Prices\")"
   ]
  },
  {
   "cell_type": "code",
   "execution_count": 84,
   "metadata": {},
   "outputs": [
    {
     "data": {
      "text/plain": [
       "Text(0.5,1,'Fitted Values vs. Residuals')"
      ]
     },
     "execution_count": 84,
     "metadata": {},
     "output_type": "execute_result"
    },
    {
     "data": {
      "image/png": "[encoded data removed]",
      "text/plain": [
       "<Figure size 432x288 with 1 Axes>"
      ]
     },
     "metadata": {},
     "output_type": "display_data"
    }
   ],
   "source": [
    "x = model.fittedvalues\n",
    "y = model.resid\n",
    "plt.scatter(x, y)\n",
    "\n",
    "plt.xlabel(\"Fitted Values\")\n",
    "plt.ylabel(\"Residual\")\n",
    "plt.title(\"Fitted Values vs. Residuals\")"
   ]
  },
  {
   "cell_type": "code",
   "execution_count": 32,
   "metadata": {},
   "outputs": [
    {
     "data": {
      "image/png": "[encoded data removed]",
      "text/plain": [
       "<Figure size 432x288 with 1 Axes>"
      ]
     },
     "execution_count": 32,
     "metadata": {},
     "output_type": "execute_result"
    },
    {
     "data": {
      "image/png": "[encoded data removed]",
      "text/plain": [
       "<Figure size 432x288 with 1 Axes>"
      ]
     },
     "metadata": {},
     "output_type": "display_data"
    }
   ],
   "source": [
    "sm.qqplot(model.resid)"
   ]
  },
  {
   "cell_type": "markdown",
   "metadata": {},
   "source": [
    "### Identifing Outliers\n",
    "***Outliers are marked with a red circle:***"
   ]
  },
  {
   "cell_type": "code",
   "execution_count": 33,
   "metadata": {},
   "outputs": [
    {
     "data": {
      "text/plain": [
       "Text(0.5,1,'Predictions vs. Original Prices')"
      ]
     },
     "execution_count": 33,
     "metadata": {},
     "output_type": "execute_result"
    },
    {
     "data": {
      "image/png": "[encoded data removed]",
      "text/plain": [
       "<Figure size 432x288 with 1 Axes>"
      ]
     },
     "metadata": {},
     "output_type": "display_data"
    }
   ],
   "source": [
    "\n",
    "plt.scatter(3850, 9000, s=7000, alpha=0.3, c = 'r' )\n",
    "\n",
    "\n",
    "predicted_prices = model.fittedvalues\n",
    "\n",
    "plt.scatter(predicted_prices, df_downtown[\"Price\"])\n",
    "\n",
    "plt.xlabel(\"Predicted Prices by Model\")\n",
    "plt.ylabel(\"Rental Price\")\n",
    "plt.title(\"Predictions vs. Original Prices\")"
   ]
  },
  {
   "cell_type": "markdown",
   "metadata": {},
   "source": [
    "### Identifing High Leverage Points: "
   ]
  },
  {
   "cell_type": "code",
   "execution_count": 34,
   "metadata": {},
   "outputs": [
    {
     "data": {
      "image/png": "[encoded data removed]",
      "text/plain": [
       "<Figure size 864x864 with 1 Axes>"
      ]
     },
     "metadata": {},
     "output_type": "display_data"
    }
   ],
   "source": [
    "fig, ax = plt.subplots(figsize=(12,12))\n",
    "fig = sm.graphics.influence_plot(model, ax=ax, criterion=\"cooks\")"
   ]
  },
  {
   "cell_type": "markdown",
   "metadata": {},
   "source": [
    "#### 462, 476, 475, 464, 337, 354, 463 are observed as high leverage points."
   ]
  },
  {
   "cell_type": "markdown",
   "metadata": {},
   "source": [
    "### Removing Outliers"
   ]
  },
  {
   "cell_type": "code",
   "execution_count": 35,
   "metadata": {},
   "outputs": [
    {
     "name": "stderr",
     "output_type": "stream",
     "text": [
      "C:\\Users\\svallipuram\\AppData\\Local\\Continuum\\anaconda3\\lib\\site-packages\\ipykernel_launcher.py:1: SettingWithCopyWarning: \n",
      "A value is trying to be set on a copy of a slice from a DataFrame.\n",
      "Try using .loc[row_indexer,col_indexer] = value instead\n",
      "\n",
      "See the caveats in the documentation: http://pandas.pydata.org/pandas-docs/stable/indexing.html#indexing-view-versus-copy\n",
      "  \"\"\"Entry point for launching an IPython kernel.\n"
     ]
    },
    {
     "data": {
      "text/html": [
       "<div>\n",
       "<style scoped>\n",
       "    .dataframe tbody tr th:only-of-type {\n",
       "        vertical-align: middle;\n",
       "    }\n",
       "\n",
       "    .dataframe tbody tr th {\n",
       "        vertical-align: top;\n",
       "    }\n",
       "\n",
       "    .dataframe thead th {\n",
       "        text-align: right;\n",
       "    }\n",
       "</style>\n",
       "<table border=\"1\" class=\"dataframe\">\n",
       "  <thead>\n",
       "    <tr style=\"text-align: right;\">\n",
       "      <th></th>\n",
       "      <th>index</th>\n",
       "      <th>Bedroom</th>\n",
       "      <th>Bathroom</th>\n",
       "      <th>Den</th>\n",
       "      <th>Address</th>\n",
       "      <th>Lat</th>\n",
       "      <th>Long</th>\n",
       "      <th>Price</th>\n",
       "      <th>ZIP</th>\n",
       "      <th>Borough</th>\n",
       "      <th>X</th>\n",
       "      <th>Y</th>\n",
       "      <th>Fitted_Values</th>\n",
       "    </tr>\n",
       "  </thead>\n",
       "  <tbody>\n",
       "    <tr>\n",
       "      <th>462</th>\n",
       "      <td>749</td>\n",
       "      <td>2</td>\n",
       "      <td>2.5</td>\n",
       "      <td>0</td>\n",
       "      <td>311 Bay St, Toronto, ON M5H 4G5, Canada</td>\n",
       "      <td>43.649783</td>\n",
       "      <td>-79.38044</td>\n",
       "      <td>9750</td>\n",
       "      <td>M5H</td>\n",
       "      <td>Downtown Toronto</td>\n",
       "      <td>0.00276</td>\n",
       "      <td>-0.003417</td>\n",
       "      <td>3638.969317</td>\n",
       "    </tr>\n",
       "    <tr>\n",
       "      <th>476</th>\n",
       "      <td>778</td>\n",
       "      <td>3</td>\n",
       "      <td>2.0</td>\n",
       "      <td>0</td>\n",
       "      <td>21 Widmer St, Toronto, ON M5V 0B8, Canada</td>\n",
       "      <td>43.647226</td>\n",
       "      <td>-79.39110</td>\n",
       "      <td>8000</td>\n",
       "      <td>M5V</td>\n",
       "      <td>Downtown Toronto</td>\n",
       "      <td>-0.00790</td>\n",
       "      <td>-0.005974</td>\n",
       "      <td>3905.611505</td>\n",
       "    </tr>\n",
       "  </tbody>\n",
       "</table>\n",
       "</div>"
      ],
      "text/plain": [
       "     index  Bedroom  Bathroom  Den                                    Address  \\\n",
       "462    749        2       2.5    0    311 Bay St, Toronto, ON M5H 4G5, Canada   \n",
       "476    778        3       2.0    0  21 Widmer St, Toronto, ON M5V 0B8, Canada   \n",
       "\n",
       "           Lat      Long  Price  ZIP           Borough        X         Y  \\\n",
       "462  43.649783 -79.38044   9750  M5H  Downtown Toronto  0.00276 -0.003417   \n",
       "476  43.647226 -79.39110   8000  M5V  Downtown Toronto -0.00790 -0.005974   \n",
       "\n",
       "     Fitted_Values  \n",
       "462    3638.969317  \n",
       "476    3905.611505  "
      ]
     },
     "execution_count": 35,
     "metadata": {},
     "output_type": "execute_result"
    }
   ],
   "source": [
    "df_downtown['Fitted_Values'] = model.fittedvalues\n",
    "df_downtown.loc[df_downtown[\"Price\"]>7000] "
   ]
  },
  {
   "cell_type": "code",
   "execution_count": 36,
   "metadata": {},
   "outputs": [
    {
     "data": {
      "text/html": [
       "<div>\n",
       "<style scoped>\n",
       "    .dataframe tbody tr th:only-of-type {\n",
       "        vertical-align: middle;\n",
       "    }\n",
       "\n",
       "    .dataframe tbody tr th {\n",
       "        vertical-align: top;\n",
       "    }\n",
       "\n",
       "    .dataframe thead th {\n",
       "        text-align: right;\n",
       "    }\n",
       "</style>\n",
       "<table border=\"1\" class=\"dataframe\">\n",
       "  <thead>\n",
       "    <tr style=\"text-align: right;\">\n",
       "      <th></th>\n",
       "      <th>index</th>\n",
       "      <th>Bedroom</th>\n",
       "      <th>Bathroom</th>\n",
       "      <th>Den</th>\n",
       "      <th>Address</th>\n",
       "      <th>Lat</th>\n",
       "      <th>Long</th>\n",
       "      <th>Price</th>\n",
       "      <th>ZIP</th>\n",
       "      <th>Borough</th>\n",
       "      <th>X</th>\n",
       "      <th>Y</th>\n",
       "      <th>Fitted_Values</th>\n",
       "    </tr>\n",
       "  </thead>\n",
       "  <tbody>\n",
       "    <tr>\n",
       "      <th>462</th>\n",
       "      <td>749</td>\n",
       "      <td>2</td>\n",
       "      <td>2.5</td>\n",
       "      <td>0</td>\n",
       "      <td>311 Bay St, Toronto, ON M5H 4G5, Canada</td>\n",
       "      <td>43.649783</td>\n",
       "      <td>-79.380440</td>\n",
       "      <td>9750</td>\n",
       "      <td>M5H</td>\n",
       "      <td>Downtown Toronto</td>\n",
       "      <td>0.002760</td>\n",
       "      <td>-0.003417</td>\n",
       "      <td>3638.969317</td>\n",
       "    </tr>\n",
       "    <tr>\n",
       "      <th>476</th>\n",
       "      <td>778</td>\n",
       "      <td>3</td>\n",
       "      <td>2.0</td>\n",
       "      <td>0</td>\n",
       "      <td>21 Widmer St, Toronto, ON M5V 0B8, Canada</td>\n",
       "      <td>43.647226</td>\n",
       "      <td>-79.391100</td>\n",
       "      <td>8000</td>\n",
       "      <td>M5V</td>\n",
       "      <td>Downtown Toronto</td>\n",
       "      <td>-0.007900</td>\n",
       "      <td>-0.005974</td>\n",
       "      <td>3905.611505</td>\n",
       "    </tr>\n",
       "    <tr>\n",
       "      <th>475</th>\n",
       "      <td>777</td>\n",
       "      <td>3</td>\n",
       "      <td>2.0</td>\n",
       "      <td>0</td>\n",
       "      <td>, toronto M5V 3z4 ON, Canada</td>\n",
       "      <td>43.641012</td>\n",
       "      <td>-79.394948</td>\n",
       "      <td>6000</td>\n",
       "      <td>M5V</td>\n",
       "      <td>Downtown Toronto</td>\n",
       "      <td>-0.011748</td>\n",
       "      <td>-0.012188</td>\n",
       "      <td>3973.059931</td>\n",
       "    </tr>\n",
       "    <tr>\n",
       "      <th>464</th>\n",
       "      <td>751</td>\n",
       "      <td>2</td>\n",
       "      <td>3.0</td>\n",
       "      <td>0</td>\n",
       "      <td>180 University Ave, Toronto, ON M5H 0A2, Canada</td>\n",
       "      <td>43.648953</td>\n",
       "      <td>-79.385768</td>\n",
       "      <td>6500</td>\n",
       "      <td>M5H</td>\n",
       "      <td>Downtown Toronto</td>\n",
       "      <td>-0.002568</td>\n",
       "      <td>-0.004247</td>\n",
       "      <td>3985.700599</td>\n",
       "    </tr>\n",
       "    <tr>\n",
       "      <th>337</th>\n",
       "      <td>502</td>\n",
       "      <td>1</td>\n",
       "      <td>1.0</td>\n",
       "      <td>0</td>\n",
       "      <td>80 Blue Jays Way, Toronto, ON M5V 2G3, Canada</td>\n",
       "      <td>43.645297</td>\n",
       "      <td>-79.392397</td>\n",
       "      <td>4700</td>\n",
       "      <td>M5V</td>\n",
       "      <td>Downtown Toronto</td>\n",
       "      <td>-0.009197</td>\n",
       "      <td>-0.007903</td>\n",
       "      <td>2097.867425</td>\n",
       "    </tr>\n",
       "    <tr>\n",
       "      <th>354</th>\n",
       "      <td>535</td>\n",
       "      <td>2</td>\n",
       "      <td>1.0</td>\n",
       "      <td>0</td>\n",
       "      <td>Bathurst St, Toronto, ON M5S 2P9, Canada</td>\n",
       "      <td>43.658278</td>\n",
       "      <td>-79.408437</td>\n",
       "      <td>600</td>\n",
       "      <td>M5S</td>\n",
       "      <td>Downtown Toronto</td>\n",
       "      <td>-0.025237</td>\n",
       "      <td>0.005078</td>\n",
       "      <td>2533.575074</td>\n",
       "    </tr>\n",
       "    <tr>\n",
       "      <th>463</th>\n",
       "      <td>750</td>\n",
       "      <td>2</td>\n",
       "      <td>3.0</td>\n",
       "      <td>0</td>\n",
       "      <td>210 Victoria St #400, Toronto, ON M5B 2R3, Canada</td>\n",
       "      <td>43.654624</td>\n",
       "      <td>-79.379076</td>\n",
       "      <td>2800</td>\n",
       "      <td>M5B</td>\n",
       "      <td>Downtown Toronto</td>\n",
       "      <td>0.004124</td>\n",
       "      <td>0.001424</td>\n",
       "      <td>3924.144155</td>\n",
       "    </tr>\n",
       "  </tbody>\n",
       "</table>\n",
       "</div>"
      ],
      "text/plain": [
       "     index  Bedroom  Bathroom  Den  \\\n",
       "462    749        2       2.5    0   \n",
       "476    778        3       2.0    0   \n",
       "475    777        3       2.0    0   \n",
       "464    751        2       3.0    0   \n",
       "337    502        1       1.0    0   \n",
       "354    535        2       1.0    0   \n",
       "463    750        2       3.0    0   \n",
       "\n",
       "                                               Address        Lat       Long  \\\n",
       "462            311 Bay St, Toronto, ON M5H 4G5, Canada  43.649783 -79.380440   \n",
       "476          21 Widmer St, Toronto, ON M5V 0B8, Canada  43.647226 -79.391100   \n",
       "475                       , toronto M5V 3z4 ON, Canada  43.641012 -79.394948   \n",
       "464    180 University Ave, Toronto, ON M5H 0A2, Canada  43.648953 -79.385768   \n",
       "337      80 Blue Jays Way, Toronto, ON M5V 2G3, Canada  43.645297 -79.392397   \n",
       "354           Bathurst St, Toronto, ON M5S 2P9, Canada  43.658278 -79.408437   \n",
       "463  210 Victoria St #400, Toronto, ON M5B 2R3, Canada  43.654624 -79.379076   \n",
       "\n",
       "     Price  ZIP           Borough         X         Y  Fitted_Values  \n",
       "462   9750  M5H  Downtown Toronto  0.002760 -0.003417    3638.969317  \n",
       "476   8000  M5V  Downtown Toronto -0.007900 -0.005974    3905.611505  \n",
       "475   6000  M5V  Downtown Toronto -0.011748 -0.012188    3973.059931  \n",
       "464   6500  M5H  Downtown Toronto -0.002568 -0.004247    3985.700599  \n",
       "337   4700  M5V  Downtown Toronto -0.009197 -0.007903    2097.867425  \n",
       "354    600  M5S  Downtown Toronto -0.025237  0.005078    2533.575074  \n",
       "463   2800  M5B  Downtown Toronto  0.004124  0.001424    3924.144155  "
      ]
     },
     "execution_count": 36,
     "metadata": {},
     "output_type": "execute_result"
    }
   ],
   "source": [
    "df_downtown.loc[[462, 476, 475, 464, 337, 354, 463]]"
   ]
  },
  {
   "cell_type": "code",
   "execution_count": 37,
   "metadata": {},
   "outputs": [
    {
     "name": "stdout",
     "output_type": "stream",
     "text": [
      "                            OLS Regression Results                            \n",
      "==============================================================================\n",
      "Dep. Variable:                  Price   R-squared:                       0.431\n",
      "Model:                            OLS   Adj. R-squared:                  0.426\n",
      "Method:                 Least Squares   F-statistic:                     89.60\n",
      "Date:                Thu, 04 Apr 2019   Prob (F-statistic):           1.13e-56\n",
      "Time:                        22:51:18   Log-Likelihood:                -3776.3\n",
      "No. Observations:                 479   AIC:                             7563.\n",
      "Df Residuals:                     474   BIC:                             7584.\n",
      "Df Model:                           4                                         \n",
      "Covariance Type:            nonrobust                                         \n",
      "==============================================================================\n",
      "                 coef    std err          t      P>|t|      [0.025      0.975]\n",
      "------------------------------------------------------------------------------\n",
      "Intercept    760.0225     94.279      8.061      0.000     574.767     945.278\n",
      "Bedroom      576.6137     88.224      6.536      0.000     403.256     749.971\n",
      "Bathroom     675.4501    101.487      6.656      0.000     476.030     874.870\n",
      "Den          279.1380     86.274      3.235      0.001     109.611     448.665\n",
      "Y          -1.085e+04   3115.507     -3.484      0.001    -1.7e+04   -4732.879\n",
      "==============================================================================\n",
      "Omnibus:                      330.456   Durbin-Watson:                   0.868\n",
      "Prob(Omnibus):                  0.000   Jarque-Bera (JB):             9293.488\n",
      "Skew:                           2.551   Prob(JB):                         0.00\n",
      "Kurtosis:                      23.967   Cond. No.                         224.\n",
      "==============================================================================\n",
      "\n",
      "Warnings:\n",
      "[1] Standard Errors assume that the covariance matrix of the errors is correctly specified.\n"
     ]
    }
   ],
   "source": [
    "model = ols(\"Price ~  Bedroom + Bathroom + Den + Y\", data=df_downtown).fit()\n",
    "print(model.summary())"
   ]
  },
  {
   "cell_type": "code",
   "execution_count": 38,
   "metadata": {},
   "outputs": [
    {
     "name": "stdout",
     "output_type": "stream",
     "text": [
      "                            OLS Regression Results                            \n",
      "==============================================================================\n",
      "Dep. Variable:                  Price   R-squared:                       0.469\n",
      "Model:                            OLS   Adj. R-squared:                  0.464\n",
      "Method:                 Least Squares   F-statistic:                     102.9\n",
      "Date:                Thu, 04 Apr 2019   Prob (F-statistic):           8.65e-63\n",
      "Time:                        22:51:18   Log-Likelihood:                -3602.9\n",
      "No. Observations:                 472   AIC:                             7216.\n",
      "Df Residuals:                     467   BIC:                             7237.\n",
      "Df Model:                           4                                         \n",
      "Covariance Type:            nonrobust                                         \n",
      "==============================================================================\n",
      "                 coef    std err          t      P>|t|      [0.025      0.975]\n",
      "------------------------------------------------------------------------------\n",
      "Intercept    946.8469     75.606     12.523      0.000     798.276    1095.418\n",
      "Bedroom      568.4116     71.761      7.921      0.000     427.396     709.427\n",
      "Bathroom     507.0137     84.186      6.023      0.000     341.583     672.444\n",
      "Den          294.1430     67.240      4.375      0.000     162.012     426.274\n",
      "Y          -8983.1836   2432.400     -3.693      0.000   -1.38e+04   -4203.379\n",
      "==============================================================================\n",
      "Omnibus:                       29.911   Durbin-Watson:                   0.403\n",
      "Prob(Omnibus):                  0.000   Jarque-Bera (JB):              100.560\n",
      "Skew:                           0.121   Prob(JB):                     1.46e-22\n",
      "Kurtosis:                       5.248   Cond. No.                         221.\n",
      "==============================================================================\n",
      "\n",
      "Warnings:\n",
      "[1] Standard Errors assume that the covariance matrix of the errors is correctly specified.\n"
     ]
    }
   ],
   "source": [
    "df_new_model=df_downtown.drop([462, 476, 475, 464, 337, 354, 463] )\n",
    "new_model = ols(\"Price ~  Bedroom + Bathroom + Den + Y\", data=df_new_model).fit()\n",
    "print(new_model.summary())\n"
   ]
  },
  {
   "cell_type": "markdown",
   "metadata": {},
   "source": [
    "### By removing these outliers, we have increased the R sqared value from  0.431 to 0.469, significantly making the model a much better fit for the data. \n",
    "\n",
    "\n",
    "#### The Multi Linear Regression model will be \n",
    "####        Price = 946.8469 + 568.4116 x Bedrooms + 507.0137 x Bathroom + 294.1430 x Den - 8983.1836 x (Lat - 43.6532)\n",
    "\n"
   ]
  },
  {
   "cell_type": "markdown",
   "metadata": {},
   "source": [
    "### Approach - 2  - Creating and Training the Model"
   ]
  },
  {
   "cell_type": "markdown",
   "metadata": {},
   "source": [
    "### Analysing the price with each variable"
   ]
  },
  {
   "cell_type": "code",
   "execution_count": 39,
   "metadata": {},
   "outputs": [
    {
     "data": {
      "text/plain": [
       "Text(0.5,1,'Relationship between Price and Bedrrom')"
      ]
     },
     "execution_count": 39,
     "metadata": {},
     "output_type": "execute_result"
    },
    {
     "data": {
      "image/png": "[encoded data removed]",
      "text/plain": [
       "<Figure size 432x288 with 1 Axes>"
      ]
     },
     "metadata": {},
     "output_type": "display_data"
    }
   ],
   "source": [
    "sns.regplot(y=\"Price\", x=\"Bedroom\", data=df_downtown, fit_reg = True)\n",
    "plt.title(\"Relationship between Price and Bedrrom\")"
   ]
  },
  {
   "cell_type": "code",
   "execution_count": 40,
   "metadata": {},
   "outputs": [
    {
     "data": {
      "text/plain": [
       "Text(0.5,1,'Relationship between Price and Bathroom')"
      ]
     },
     "execution_count": 40,
     "metadata": {},
     "output_type": "execute_result"
    },
    {
     "data": {
      "image/png": "[encoded data removed]",
      "text/plain": [
       "<Figure size 432x288 with 1 Axes>"
      ]
     },
     "metadata": {},
     "output_type": "display_data"
    }
   ],
   "source": [
    "sns.regplot(y=\"Price\", x=\"Bathroom\", data=df_downtown, fit_reg = True)\n",
    "plt.title(\"Relationship between Price and Bathroom\")"
   ]
  },
  {
   "cell_type": "code",
   "execution_count": 41,
   "metadata": {},
   "outputs": [
    {
     "data": {
      "text/plain": [
       "Text(0.5,1,'Relationship between Price and Den')"
      ]
     },
     "execution_count": 41,
     "metadata": {},
     "output_type": "execute_result"
    },
    {
     "data": {
      "image/png": "[encoded data removed]",
      "text/plain": [
       "<Figure size 432x288 with 1 Axes>"
      ]
     },
     "metadata": {},
     "output_type": "display_data"
    }
   ],
   "source": [
    "sns.regplot(y=\"Price\", x=\"Den\", data=df_downtown, fit_reg = True)\n",
    "plt.title(\"Relationship between Price and Den\")"
   ]
  },
  {
   "cell_type": "code",
   "execution_count": 42,
   "metadata": {},
   "outputs": [
    {
     "data": {
      "text/plain": [
       "Text(0.5,1,'Relationship between Price and Y (Latitude difference)')"
      ]
     },
     "execution_count": 42,
     "metadata": {},
     "output_type": "execute_result"
    },
    {
     "data": {
      "image/png": "[encoded data removed]",
      "text/plain": [
       "<Figure size 432x288 with 1 Axes>"
      ]
     },
     "metadata": {},
     "output_type": "display_data"
    }
   ],
   "source": [
    "sns.regplot(y=\"Price\", x=\"Y\", data=df_downtown, fit_reg = True)\n",
    "plt.title(\"Relationship between Price and Y (Latitude difference)\")"
   ]
  },
  {
   "cell_type": "code",
   "execution_count": 43,
   "metadata": {},
   "outputs": [
    {
     "data": {
      "text/plain": [
       "Text(0.5,1,'Relationship between Price and X (Longitude difference)')"
      ]
     },
     "execution_count": 43,
     "metadata": {},
     "output_type": "execute_result"
    },
    {
     "data": {
      "image/png": "[encoded data removed]",
      "text/plain": [
       "<Figure size 432x288 with 1 Axes>"
      ]
     },
     "metadata": {},
     "output_type": "display_data"
    }
   ],
   "source": [
    "sns.regplot(y=\"Price\", x=\"X\", data=df_downtown, fit_reg = True)\n",
    "plt.title(\"Relationship between Price and X (Longitude difference)\")"
   ]
  },
  {
   "cell_type": "code",
   "execution_count": 44,
   "metadata": {},
   "outputs": [],
   "source": [
    "y = df_downtown[\"Price\"]\n",
    "X = df_downtown[['Bedroom', 'Bathroom', 'Den', 'X', 'Y']]\n",
    "from sklearn.model_selection import train_test_split\n",
    "X_train, X_test, y_train, y_test = train_test_split(X,y,test_size=0.2,random_state=105) ## 30% for test and the rest for training"
   ]
  },
  {
   "cell_type": "code",
   "execution_count": 45,
   "metadata": {},
   "outputs": [
    {
     "data": {
      "text/plain": [
       "LinearRegression(copy_X=True, fit_intercept=True, n_jobs=1, normalize=False)"
      ]
     },
     "execution_count": 45,
     "metadata": {},
     "output_type": "execute_result"
    }
   ],
   "source": [
    "from sklearn.linear_model import LinearRegression\n",
    "lm = LinearRegression()\n",
    "results = lm.fit(X_train,y_train)\n",
    "results"
   ]
  },
  {
   "cell_type": "code",
   "execution_count": 46,
   "metadata": {},
   "outputs": [
    {
     "data": {
      "text/plain": [
       "Text(0.5,1,'Prediction Vs Actual Price')"
      ]
     },
     "execution_count": 46,
     "metadata": {},
     "output_type": "execute_result"
    },
    {
     "data": {
      "image/png": "[encoded data removed]",
      "text/plain": [
       "<Figure size 432x288 with 1 Axes>"
      ]
     },
     "metadata": {},
     "output_type": "display_data"
    }
   ],
   "source": [
    "predictions = lm.predict(X_test)\n",
    "plt.scatter(y_test,predictions)\n",
    "plt.xlabel('Y Test')\n",
    "plt.ylabel('Predictions')\n",
    "plt.title(\"Prediction Vs Actual Price\")"
   ]
  },
  {
   "cell_type": "code",
   "execution_count": 47,
   "metadata": {},
   "outputs": [
    {
     "name": "stdout",
     "output_type": "stream",
     "text": [
      "MSE:  629212.1082470532\n",
      "RMSE:  793.228912891514\n"
     ]
    }
   ],
   "source": [
    "from sklearn import metrics\n",
    "print('MSE: ',metrics.mean_squared_error(y_test,predictions))\n",
    "print('RMSE: ',np.sqrt(metrics.mean_squared_error(y_test,predictions)))"
   ]
  },
  {
   "cell_type": "code",
   "execution_count": 48,
   "metadata": {},
   "outputs": [
    {
     "name": "stderr",
     "output_type": "stream",
     "text": [
      "C:\\Users\\svallipuram\\AppData\\Local\\Continuum\\anaconda3\\lib\\site-packages\\matplotlib\\axes\\_axes.py:6462: UserWarning: The 'normed' kwarg is deprecated, and has been replaced by the 'density' kwarg.\n",
      "  warnings.warn(\"The 'normed' kwarg is deprecated, and has been \"\n"
     ]
    },
    {
     "data": {
      "text/plain": [
       "<matplotlib.axes._subplots.AxesSubplot at 0x23469f2f438>"
      ]
     },
     "execution_count": 48,
     "metadata": {},
     "output_type": "execute_result"
    },
    {
     "data": {
      "image/png": "[encoded data removed]",
      "text/plain": [
       "<Figure size 432x288 with 1 Axes>"
      ]
     },
     "metadata": {},
     "output_type": "display_data"
    }
   ],
   "source": [
    "sns.distplot((y_test-predictions),bins=50)"
   ]
  },
  {
   "cell_type": "code",
   "execution_count": 49,
   "metadata": {},
   "outputs": [
    {
     "data": {
      "text/plain": [
       "0.41446173875791475"
      ]
     },
     "execution_count": 49,
     "metadata": {},
     "output_type": "execute_result"
    }
   ],
   "source": [
    "results.score(X_test,y_test)"
   ]
  },
  {
   "cell_type": "markdown",
   "metadata": {},
   "source": [
    "#### As the model accuracy is around 41% we would like to try with GradientBoostingRegressor"
   ]
  },
  {
   "cell_type": "code",
   "execution_count": 50,
   "metadata": {},
   "outputs": [
    {
     "data": {
      "text/plain": [
       "GradientBoostingRegressor(alpha=0.9, criterion='friedman_mse', init=None,\n",
       "             learning_rate=0.1, loss='ls', max_depth=4, max_features=None,\n",
       "             max_leaf_nodes=None, min_impurity_decrease=0.0,\n",
       "             min_impurity_split=None, min_samples_leaf=1,\n",
       "             min_samples_split=2, min_weight_fraction_leaf=0.0,\n",
       "             n_estimators=100, presort='auto', random_state=1,\n",
       "             subsample=1.0, verbose=0, warm_start=False)"
      ]
     },
     "execution_count": 50,
     "metadata": {},
     "output_type": "execute_result"
    }
   ],
   "source": [
    "from sklearn import ensemble\n",
    "clf = ensemble.GradientBoostingRegressor(n_estimators = 100, max_depth = 4, min_samples_split =2,\n",
    "          learning_rate = 0.1, loss = 'ls',random_state=1)\n",
    "clf.fit(X_train, y_train)"
   ]
  },
  {
   "cell_type": "code",
   "execution_count": null,
   "metadata": {},
   "outputs": [],
   "source": []
  },
  {
   "cell_type": "code",
   "execution_count": 51,
   "metadata": {},
   "outputs": [
    {
     "data": {
      "text/plain": [
       "0.2802999413978736"
      ]
     },
     "execution_count": 51,
     "metadata": {},
     "output_type": "execute_result"
    }
   ],
   "source": [
    "from sklearn import ensemble\n",
    "clf = ensemble.GradientBoostingRegressor(n_estimators = 10, max_depth = 4, min_samples_split =2,\n",
    "          learning_rate = 0.1, loss = 'ls',random_state=1)\n",
    "clf.fit(X_train, y_train)\n",
    "clf.score(X_test,y_test)"
   ]
  },
  {
   "cell_type": "code",
   "execution_count": null,
   "metadata": {},
   "outputs": [],
   "source": []
  }
 ],
 "metadata": {
  "kernelspec": {
   "display_name": "Python 3",
   "language": "python",
   "name": "python3"
  },
  "language_info": {
   "codemirror_mode": {
    "name": "ipython",
    "version": 3
   },
   "file_extension": ".py",
   "mimetype": "text/x-python",
   "name": "python",
   "nbconvert_exporter": "python",
   "pygments_lexer": "ipython3",
   "version": "3.6.5"
  }
 },
 "nbformat": 4,
 "nbformat_minor": 2
}
